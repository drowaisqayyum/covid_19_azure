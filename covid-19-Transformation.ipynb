{
 "cells": [
  {
   "cell_type": "code",
   "execution_count": 0,
   "metadata": {
    "application/vnd.databricks.v1+cell": {
     "cellMetadata": {
      "byteLimit": 2048000,
      "rowLimit": 10000
     },
     "inputWidgets": {},
     "nuid": "53a3510d-ac48-4aed-ad6d-dc7e3857da5a",
     "showTitle": false,
     "title": ""
    }
   },
   "outputs": [],
   "source": [
    "# Import required libraries\n",
    "from pyspark.dbutils import DBUtils\n",
    "from pyspark.sql import SparkSession"
   ]
  },
  {
   "cell_type": "markdown",
   "metadata": {
    "application/vnd.databricks.v1+cell": {
     "cellMetadata": {},
     "inputWidgets": {},
     "nuid": "a4cca03c-3e30-49ad-bd87-2faedbc12ea1",
     "showTitle": false,
     "title": ""
    }
   },
   "source": [
    "# Initializing the spark session"
   ]
  },
  {
   "cell_type": "code",
   "execution_count": 0,
   "metadata": {
    "application/vnd.databricks.v1+cell": {
     "cellMetadata": {
      "byteLimit": 2048000,
      "rowLimit": 10000
     },
     "inputWidgets": {},
     "nuid": "f07ce684-98db-46c9-a78b-adb2d24eb422",
     "showTitle": false,
     "title": ""
    }
   },
   "outputs": [],
   "source": [
    "# Initialize Spark session and DBUtils\n",
    "spark = SparkSession.builder.getOrCreate()\n",
    "dbutils = DBUtils(spark)"
   ]
  },
  {
   "cell_type": "markdown",
   "metadata": {
    "application/vnd.databricks.v1+cell": {
     "cellMetadata": {},
     "inputWidgets": {},
     "nuid": "6b9d6640-33d5-45cf-a75b-15b1c2716529",
     "showTitle": false,
     "title": ""
    }
   },
   "source": [
    "# Get the secret values from the secret scope"
   ]
  },
  {
   "cell_type": "code",
   "execution_count": 0,
   "metadata": {
    "application/vnd.databricks.v1+cell": {
     "cellMetadata": {
      "byteLimit": 2048000,
      "rowLimit": 10000
     },
     "inputWidgets": {},
     "nuid": "7ad09fc1-fbd0-49b9-b128-f4f0f8cdac01",
     "showTitle": false,
     "title": ""
    }
   },
   "outputs": [],
   "source": [
    "# Get the secret values from the secret scope\n",
    "client_id = dbutils.secrets.get(scope=\"key-vault-scope\", key=\"clientid\")\n",
    "client_secret = dbutils.secrets.get(scope=\"key-vault-scope\", key=\"applicationkey\")\n",
    "tenant_id = dbutils.secrets.get(scope=\"key-vault-scope\", key=\"tenantid\")"
   ]
  },
  {
   "cell_type": "code",
   "execution_count": 0,
   "metadata": {
    "application/vnd.databricks.v1+cell": {
     "cellMetadata": {
      "byteLimit": 2048000,
      "rowLimit": 10000
     },
     "inputWidgets": {},
     "nuid": "6cdf778b-1c1b-4912-99dd-040715088856",
     "showTitle": false,
     "title": ""
    }
   },
   "outputs": [],
   "source": [
    "# Update the configs dictionary with the secret values\n",
    "configs = {\n",
    "    \"fs.azure.account.auth.type\": \"OAuth\",\n",
    "    \"fs.azure.account.oauth.provider.type\": \"org.apache.hadoop.fs.azurebfs.oauth2.ClientCredsTokenProvider\",\n",
    "    \"fs.azure.account.oauth2.client.id\": client_id,\n",
    "    \"fs.azure.account.oauth2.client.secret\": client_secret,\n",
    "    \"fs.azure.account.oauth2.client.endpoint\": f\"https://login.microsoftonline.com/{tenant_id}/oauth2/token\"\n",
    "}\n"
   ]
  },
  {
   "cell_type": "markdown",
   "metadata": {
    "application/vnd.databricks.v1+cell": {
     "cellMetadata": {},
     "inputWidgets": {},
     "nuid": "2a066c7e-6259-42e9-93ca-11ec7661acda",
     "showTitle": false,
     "title": ""
    }
   },
   "source": [
    "# Mount the Data to databricks"
   ]
  },
  {
   "cell_type": "code",
   "execution_count": 0,
   "metadata": {
    "application/vnd.databricks.v1+cell": {
     "cellMetadata": {
      "byteLimit": 2048000,
      "rowLimit": 10000
     },
     "inputWidgets": {},
     "nuid": "23f33768-bcc5-4e97-95b5-5b726baec487",
     "showTitle": false,
     "title": ""
    }
   },
   "outputs": [
    {
     "output_type": "stream",
     "name": "stdout",
     "output_type": "stream",
     "text": [
      "Directory was not mounted: An error occurred while calling o392.unmount.\n: java.rmi.RemoteException: java.lang.IllegalArgumentException: requirement failed: Directory not mounted: /mnt/covid-19-data; nested exception is: \n\tjava.lang.IllegalArgumentException: requirement failed: Directory not mounted: /mnt/covid-19-data\n\tat com.databricks.backend.daemon.data.client.DbfsClient.send0(DbfsClient.scala:135)\n\tat com.databricks.backend.daemon.data.client.DbfsClient.sendIdempotent(DbfsClient.scala:69)\n\tat com.databricks.backend.daemon.dbutils.DBUtilsCore.unmount(DBUtilsCore.scala:1328)\n\tat com.databricks.backend.daemon.dbutils.DBUtilsCore.$anonfun$unmount$1(DBUtilsCore.scala:1344)\n\tat com.databricks.logging.UsageLogging.$anonfun$recordOperation$1(UsageLogging.scala:571)\n\tat com.databricks.logging.UsageLogging.executeThunkAndCaptureResultTags$1(UsageLogging.scala:667)\n\tat com.databricks.logging.UsageLogging.$anonfun$recordOperationWithResultTags$4(UsageLogging.scala:685)\n\tat com.databricks.logging.UsageLogging.$anonfun$withAttributionContext$1(UsageLogging.scala:426)\n\tat scala.util.DynamicVariable.withValue(DynamicVariable.scala:62)\n\tat com.databricks.logging.AttributionContext$.withValue(AttributionContext.scala:196)\n\tat com.databricks.logging.UsageLogging.withAttributionContext(UsageLogging.scala:424)\n\tat com.databricks.logging.UsageLogging.withAttributionContext$(UsageLogging.scala:418)\n\tat com.databricks.backend.daemon.dbutils.FSUtils.withAttributionContext(DBUtilsCore.scala:71)\n\tat com.databricks.logging.UsageLogging.withAttributionTags(UsageLogging.scala:470)\n\tat com.databricks.logging.UsageLogging.withAttributionTags$(UsageLogging.scala:455)\n\tat com.databricks.backend.daemon.dbutils.FSUtils.withAttributionTags(DBUtilsCore.scala:71)\n\tat com.databricks.logging.UsageLogging.recordOperationWithResultTags(UsageLogging.scala:662)\n\tat com.databricks.logging.UsageLogging.recordOperationWithResultTags$(UsageLogging.scala:580)\n\tat com.databricks.backend.daemon.dbutils.FSUtils.recordOperationWithResultTags(DBUtilsCore.scala:71)\n\tat com.databricks.logging.UsageLogging.recordOperation(UsageLogging.scala:571)\n\tat com.databricks.logging.UsageLogging.recordOperation$(UsageLogging.scala:540)\n\tat com.databricks.backend.daemon.dbutils.FSUtils.recordOperation(DBUtilsCore.scala:71)\n\tat com.databricks.backend.daemon.dbutils.FSUtils.recordDbutilsFsOp(DBUtilsCore.scala:135)\n\tat com.databricks.backend.daemon.dbutils.DBUtilsCore.unmount(DBUtilsCore.scala:1344)\n\tat sun.reflect.NativeMethodAccessorImpl.invoke0(Native Method)\n\tat sun.reflect.NativeMethodAccessorImpl.invoke(NativeMethodAccessorImpl.java:62)\n\tat sun.reflect.DelegatingMethodAccessorImpl.invoke(DelegatingMethodAccessorImpl.java:43)\n\tat java.lang.reflect.Method.invoke(Method.java:498)\n\tat py4j.reflection.MethodInvoker.invoke(MethodInvoker.java:244)\n\tat py4j.reflection.ReflectionEngine.invoke(ReflectionEngine.java:397)\n\tat py4j.Gateway.invoke(Gateway.java:306)\n\tat py4j.commands.AbstractCommand.invokeMethod(AbstractCommand.java:132)\n\tat py4j.commands.CallCommand.execute(CallCommand.java:79)\n\tat py4j.ClientServerConnection.waitForCommands(ClientServerConnection.java:199)\n\tat py4j.ClientServerConnection.run(ClientServerConnection.java:119)\n\tat java.lang.Thread.run(Thread.java:750)\nCaused by: java.lang.IllegalArgumentException: requirement failed: Directory not mounted: /mnt/covid-19-data\n\tat scala.Predef$.require(Predef.scala:281)\n\tat com.databricks.backend.daemon.data.server.DefaultMetadataManager.$anonfun$deleteMount$1(MetadataManager.scala:803)\n\tat com.databricks.backend.daemon.data.server.DefaultMetadataManager.$anonfun$modifyAndVerify$2(MetadataManager.scala:1085)\n\tat scala.runtime.java8.JFunction0$mcV$sp.apply(JFunction0$mcV$sp.java:23)\n\tat com.databricks.backend.daemon.data.server.DefaultMetadataManager.withRetries(MetadataManager.scala:858)\n\tat com.databricks.backend.daemon.data.server.DefaultMetadataManager.modifyAndVerify(MetadataManager.scala:1074)\n\tat com.databricks.backend.daemon.data.server.DefaultMetadataManager.deleteMount(MetadataManager.scala:807)\n\tat com.databricks.backend.daemon.data.server.handler.MountHandler.receive(MountHandler.scala:141)\n\tat com.databricks.backend.daemon.data.server.session.SessionContext.$anonfun$queryHandlers$1(SessionContext.scala:54)\n\tat com.databricks.backend.daemon.data.server.session.SessionContext.$anonfun$queryHandlers$1$adapted(SessionContext.scala:53)\n\tat scala.collection.immutable.List.foreach(List.scala:431)\n\tat com.databricks.backend.daemon.data.server.session.SessionContext.queryHandlers(SessionContext.scala:53)\n\tat com.databricks.backend.daemon.data.server.DbfsServerBackend$$anonfun$receive$4.$anonfun$applyOrElse$10(DbfsServerBackend.scala:436)\n\tat com.databricks.logging.AttributionContextTracing.$anonfun$withAttributionContext$1(AttributionContextTracing.scala:48)\n\tat com.databricks.logging.AttributionContext$.$anonfun$withValue$1(AttributionContext.scala:244)\n\tat scala.util.DynamicVariable.withValue(DynamicVariable.scala:62)\n\tat com.databricks.logging.AttributionContext$.withValue(AttributionContext.scala:240)\n\tat com.databricks.logging.AttributionContextTracing.withAttributionContext(AttributionContextTracing.scala:46)\n\tat com.databricks.logging.AttributionContextTracing.withAttributionContext$(AttributionContextTracing.scala:43)\n\tat com.databricks.rpc.ServerBackend.withAttributionContext(ServerBackend.scala:22)\n\tat com.databricks.logging.AttributionContextTracing.withAttributionTags(AttributionContextTracing.scala:95)\n\tat com.databricks.logging.AttributionContextTracing.withAttributionTags$(AttributionContextTracing.scala:76)\n\tat com.databricks.rpc.ServerBackend.withAttributionTags(ServerBackend.scala:22)\n\tat com.databricks.backend.daemon.data.server.DbfsServerBackend$$anonfun$receive$4.applyOrElse(DbfsServerBackend.scala:436)\n\tat com.databricks.backend.daemon.data.server.DbfsServerBackend$$anonfun$receive$4.applyOrElse(DbfsServerBackend.scala:335)\n\tat com.databricks.rpc.ServerBackend.$anonfun$internalReceive0$2(ServerBackend.scala:174)\n\tat com.databricks.rpc.ServerBackend$$anonfun$commonReceive$1.applyOrElse(ServerBackend.scala:200)\n\tat com.databricks.rpc.ServerBackend$$anonfun$commonReceive$1.applyOrElse(ServerBackend.scala:200)\n\tat com.databricks.rpc.ServerBackend.internalReceive0(ServerBackend.scala:171)\n\tat com.databricks.rpc.ServerBackend.$anonfun$internalReceive$1(ServerBackend.scala:147)\n\tat com.databricks.logging.UsageLogging.$anonfun$recordOperation$1(UsageLogging.scala:525)\n\tat com.databricks.logging.UsageLogging.executeThunkAndCaptureResultTags$1(UsageLogging.scala:629)\n\tat com.databricks.logging.UsageLogging.$anonfun$recordOperationWithResultTags$4(UsageLogging.scala:647)\n\tat com.databricks.logging.AttributionContextTracing.$anonfun$withAttributionContext$1(AttributionContextTracing.scala:48)\n\tat com.databricks.logging.AttributionContext$.$anonfun$withValue$1(AttributionContext.scala:244)\n\tat scala.util.DynamicVariable.withValue(DynamicVariable.scala:62)\n\tat com.databricks.logging.AttributionContext$.withValue(AttributionContext.scala:240)\n\tat com.databricks.logging.AttributionContextTracing.withAttributionContext(AttributionContextTracing.scala:46)\n\tat com.databricks.logging.AttributionContextTracing.withAttributionContext$(AttributionContextTracing.scala:43)\n\tat com.databricks.rpc.ServerBackend.withAttributionContext(ServerBackend.scala:22)\n\tat com.databricks.logging.AttributionContextTracing.withAttributionTags(AttributionContextTracing.scala:95)\n\tat com.databricks.logging.AttributionContextTracing.withAttributionTags$(AttributionContextTracing.scala:76)\n\tat com.databricks.rpc.ServerBackend.withAttributionTags(ServerBackend.scala:22)\n\tat com.databricks.logging.UsageLogging.recordOperationWithResultTags(UsageLogging.scala:624)\n\tat com.databricks.logging.UsageLogging.recordOperationWithResultTags$(UsageLogging.scala:534)\n\tat com.databricks.rpc.ServerBackend.recordOperationWithResultTags(ServerBackend.scala:22)\n\tat com.databricks.logging.UsageLogging.recordOperation(UsageLogging.scala:526)\n\tat com.databricks.logging.UsageLogging.recordOperation$(UsageLogging.scala:494)\n\tat com.databricks.rpc.ServerBackend.recordOperation(ServerBackend.scala:22)\n\tat com.databricks.rpc.ServerBackend.internalReceive(ServerBackend.scala:146)\n\tat com.databricks.rpc.JettyServer$RequestManager.handleRPC(JettyServer.scala:1021)\n\tat com.databricks.rpc.JettyServer$RequestManager.handleRequestAndRespond(JettyServer.scala:942)\n\tat com.databricks.rpc.JettyServer$RequestManager.$anonfun$handleHttp$6(JettyServer.scala:546)\n\tat com.databricks.rpc.JettyServer$RequestManager.$anonfun$handleHttp$6$adapted(JettyServer.scala:515)\n\tat com.databricks.logging.activity.ActivityContextFactory$.$anonfun$withActivityInternal$6(ActivityContextFactory.scala:546)\n\tat com.databricks.logging.AttributionContextTracing.$anonfun$withAttributionContext$1(AttributionContextTracing.scala:48)\n\tat com.databricks.logging.AttributionContext$.$anonfun$withValue$1(AttributionContext.scala:244)\n\tat scala.util.DynamicVariable.withValue(DynamicVariable.scala:62)\n\tat com.databricks.logging.AttributionContext$.withValue(AttributionContext.scala:240)\n\tat com.databricks.logging.AttributionContextTracing.withAttributionContext(AttributionContextTracing.scala:46)\n\tat com.databricks.logging.AttributionContextTracing.withAttributionContext$(AttributionContextTracing.scala:43)\n\tat com.databricks.logging.activity.ActivityContextFactory$.withAttributionContext(ActivityContextFactory.scala:57)\n\tat com.databricks.logging.activity.ActivityContextFactory$.$anonfun$withActivityInternal$3(ActivityContextFactory.scala:546)\n\tat com.databricks.context.integrity.IntegrityCheckContext$ThreadLocalStorage$.withValue(IntegrityCheckContext.scala:73)\n\tat com.databricks.logging.activity.ActivityContextFactory$.withActivityInternal(ActivityContextFactory.scala:524)\n\tat com.databricks.logging.activity.ActivityContextFactory$.withServiceRequestActivity(ActivityContextFactory.scala:178)\n\tat com.databricks.rpc.JettyServer$RequestManager.handleHttp(JettyServer.scala:515)\n\tat com.databricks.rpc.JettyServer$RequestManager.doPost(JettyServer.scala:405)\n\tat javax.servlet.http.HttpServlet.service(HttpServlet.java:665)\n\tat com.databricks.rpc.HttpServletWithPatch.service(HttpServletWithPatch.scala:33)\n\tat javax.servlet.http.HttpServlet.service(HttpServlet.java:750)\n\tat org.eclipse.jetty.servlet.ServletHolder.handle(ServletHolder.java:799)\n\tat org.eclipse.jetty.servlet.ServletHandler.doHandle(ServletHandler.java:554)\n\tat org.eclipse.jetty.server.handler.ScopedHandler.nextScope(ScopedHandler.java:190)\n\tat org.eclipse.jetty.servlet.ServletHandler.doScope(ServletHandler.java:505)\n\tat org.eclipse.jetty.server.handler.ScopedHandler.handle(ScopedHandler.java:141)\n\tat org.eclipse.jetty.server.handler.HandlerWrapper.handle(HandlerWrapper.java:127)\n\tat org.eclipse.jetty.server.Server.handle(Server.java:516)\n\tat org.eclipse.jetty.server.HttpChannel.lambda$handle$1(HttpChannel.java:487)\n\tat org.eclipse.jetty.server.HttpChannel.dispatch(HttpChannel.java:732)\n\tat org.eclipse.jetty.server.HttpChannel.handle(HttpChannel.java:479)\n\tat org.eclipse.jetty.server.HttpConnection.onFillable(HttpConnection.java:277)\n\tat org.eclipse.jetty.io.AbstractConnection$ReadCallback.succeeded(AbstractConnection.java:311)\n\tat org.eclipse.jetty.io.FillInterest.fillable(FillInterest.java:105)\n\tat org.eclipse.jetty.io.ChannelEndPoint$1.run(ChannelEndPoint.java:104)\n\tat org.eclipse.jetty.util.thread.strategy.EatWhatYouKill.runTask(EatWhatYouKill.java:338)\n\tat org.eclipse.jetty.util.thread.strategy.EatWhatYouKill.doProduce(EatWhatYouKill.java:315)\n\tat org.eclipse.jetty.util.thread.strategy.EatWhatYouKill.tryProduce(EatWhatYouKill.java:173)\n\tat org.eclipse.jetty.util.thread.strategy.EatWhatYouKill.run(EatWhatYouKill.java:131)\n\tat org.eclipse.jetty.util.thread.ReservedThreadExecutor$ReservedThread.run(ReservedThreadExecutor.java:409)\n\tat com.databricks.rpc.InstrumentedQueuedThreadPool$$anon$1.$anonfun$run$2(InstrumentedQueuedThreadPool.scala:106)\n\tat scala.runtime.java8.JFunction0$mcV$sp.apply(JFunction0$mcV$sp.java:23)\n\tat com.databricks.logging.AttributionContextTracing.$anonfun$withAttributionContext$1(AttributionContextTracing.scala:48)\n\tat com.databricks.logging.AttributionContext$.$anonfun$withValue$1(AttributionContext.scala:244)\n\tat scala.util.DynamicVariable.withValue(DynamicVariable.scala:62)\n\tat com.databricks.logging.AttributionContext$.withValue(AttributionContext.scala:240)\n\tat com.databricks.logging.AttributionContextTracing.withAttributionContext(AttributionContextTracing.scala:46)\n\tat com.databricks.logging.AttributionContextTracing.withAttributionContext$(AttributionContextTracing.scala:43)\n\tat com.databricks.rpc.InstrumentedQueuedThreadPool.withAttributionContext(InstrumentedQueuedThreadPool.scala:46)\n\tat com.databricks.rpc.InstrumentedQueuedThreadPool$$anon$1.$anonfun$run$1(InstrumentedQueuedThreadPool.scala:106)\n\tat scala.runtime.java8.JFunction0$mcV$sp.apply(JFunction0$mcV$sp.java:23)\n\tat com.databricks.instrumentation.QueuedThreadPoolInstrumenter.trackActiveThreads(QueuedThreadPoolInstrumenter.scala:150)\n\tat com.databricks.instrumentation.QueuedThreadPoolInstrumenter.trackActiveThreads$(QueuedThreadPoolInstrumenter.scala:147)\n\tat com.databricks.rpc.InstrumentedQueuedThreadPool.trackActiveThreads(InstrumentedQueuedThreadPool.scala:46)\n\tat com.databricks.rpc.InstrumentedQueuedThreadPool$$anon$1.run(InstrumentedQueuedThreadPool.scala:88)\n\tat org.eclipse.jetty.util.thread.QueuedThreadPool.runJob(QueuedThreadPool.java:883)\n\tat org.eclipse.jetty.util.thread.QueuedThreadPool$Runner.run(QueuedThreadPool.java:1034)\n\tat java.lang.Thread.run(Thread.java:840)\n\n"
     ]
    },
    {
     "output_type": "execute_result",
     "data": {
      "text/plain": [
       "True"
      ]
     },
     "execution_count": 12,
     "metadata": {},
     "output_type": "execute_result"
    }
   ],
   "source": [
    "# Define the mount point\n",
    "mount_point = \"/mnt/covid-19-data\"\n",
    "\n",
    "try:\n",
    "    dbutils.fs.unmount(mount_point)\n",
    "except Exception as e:\n",
    "    print(f\"Directory was not mounted: {e}\")\n",
    "\n",
    "# Mount the Azure Data Lake Storage using the updated configs\n",
    "dbutils.fs.mount(\n",
    "    source=\"abfss://covid-19-data@covidstoragefiles.dfs.core.windows.net\", # container@resourcegroup\n",
    "    mount_point=mount_point,\n",
    "    extra_configs=configs\n",
    ")"
   ]
  },
  {
   "cell_type": "markdown",
   "metadata": {
    "application/vnd.databricks.v1+cell": {
     "cellMetadata": {},
     "inputWidgets": {},
     "nuid": "a20e9a37-3f54-45a5-9b4c-73bc43f6a72c",
     "showTitle": false,
     "title": ""
    }
   },
   "source": [
    "# Reading the data"
   ]
  },
  {
   "cell_type": "code",
   "execution_count": 0,
   "metadata": {
    "application/vnd.databricks.v1+cell": {
     "cellMetadata": {
      "byteLimit": 2048000,
      "rowLimit": 10000
     },
     "inputWidgets": {},
     "nuid": "8b63b077-f7bc-473a-8d48-ec1e01b2de97",
     "showTitle": false,
     "title": ""
    }
   },
   "outputs": [],
   "source": [
    "path = \"/mnt/covid-19-data/raw_data\"\n",
    "countries = spark.read.format(\"csv\").option(\"header\",\"true\").option(\"inferSchema\",\"true\").load(f\"{path}/country.csv\")\n",
    "states = spark.read.format(\"csv\").option(\"header\",\"true\").option(\"inferSchema\",\"true\").load(f\"{path}/state.csv\")\n",
    "cities = spark.read.format(\"csv\").option(\"header\",\"true\").option(\"inferSchema\",\"true\").load(f\"{path}/city.csv\")\n",
    "     "
   ]
  },
  {
   "cell_type": "markdown",
   "metadata": {
    "application/vnd.databricks.v1+cell": {
     "cellMetadata": {},
     "inputWidgets": {},
     "nuid": "66c64a33-6d8f-4074-992f-c9c86c05b77c",
     "showTitle": false,
     "title": ""
    }
   },
   "source": [
    "# printing data and schema"
   ]
  },
  {
   "cell_type": "code",
   "execution_count": 0,
   "metadata": {
    "application/vnd.databricks.v1+cell": {
     "cellMetadata": {
      "byteLimit": 2048000,
      "rowLimit": 10000
     },
     "inputWidgets": {},
     "nuid": "886f2873-7914-4754-86d7-e1f26108f3e4",
     "showTitle": false,
     "title": ""
    }
   },
   "outputs": [
    {
     "output_type": "stream",
     "name": "stdout",
     "output_type": "stream",
     "text": [
      "+--------+----------+---------+------+---------+-----+--------+-----------------+-----------------------+----+----+----+--------------+-----------------+-------------+-----------------------+-----------------+----------------------+------------------------------+-----------------------------------+---------------------+--------------+---------------+----------------+------------------+-------------------------+-------------------------+----------------+------------------------+----------------------+-------------------------+---------------------------+---------------------------+---------------------------+--------+---------+----------+-----------+-----------+-----------+------------+---------+-------------------+------------------+------------+--------+--------+\n|      id|      date|confirmed|deaths|recovered|tests|vaccines|people_vaccinated|people_fully_vaccinated|hosp| icu|vent|school_closing|workplace_closing|cancel_events|gatherings_restrictions|transport_closing|stay_home_restrictions|internal_movement_restrictions|international_movement_restrictions|information_campaigns|testing_policy|contact_tracing|facial_coverings|vaccination_policy|elderly_people_protection|government_response_index|stringency_index|containment_health_index|economic_support_index|administrative_area_level|administrative_area_level_1|administrative_area_level_2|administrative_area_level_3|latitude|longitude|population|iso_alpha_3|iso_alpha_2|iso_numeric|iso_currency|key_local|key_google_mobility|key_apple_mobility|key_jhu_csse|key_nuts|key_gadm|\n+--------+----------+---------+------+---------+-----+--------+-----------------+-----------------------+----+----+----+--------------+-----------------+-------------+-----------------------+-----------------+----------------------+------------------------------+-----------------------------------+---------------------+--------------+---------------+----------------+------------------+-------------------------+-------------------------+----------------+------------------------+----------------------+-------------------------+---------------------------+---------------------------+---------------------------+--------+---------+----------+-----------+-----------+-----------+------------+---------+-------------------+------------------+------------+--------+--------+\n|8320791a|2020-03-13|        2|  NULL|     NULL| NULL|    NULL|             NULL|                   NULL|NULL|NULL|NULL|          NULL|             NULL|         NULL|                   NULL|             NULL|                  NULL|                          NULL|                               NULL|                 NULL|          NULL|           NULL|            NULL|              NULL|                     NULL|                     NULL|            NULL|                    NULL|                  NULL|                        1|             Grand Princess|                       NULL|                       NULL|    NULL|     NULL|      3533|       NULL|       NULL|       NULL|        NULL|     NULL|               NULL|              NULL|        NULL|    NULL|    NULL|\n|8320791a|2020-03-14|        2|  NULL|     NULL| NULL|    NULL|             NULL|                   NULL|NULL|NULL|NULL|          NULL|             NULL|         NULL|                   NULL|             NULL|                  NULL|                          NULL|                               NULL|                 NULL|          NULL|           NULL|            NULL|              NULL|                     NULL|                     NULL|            NULL|                    NULL|                  NULL|                        1|             Grand Princess|                       NULL|                       NULL|    NULL|     NULL|      3533|       NULL|       NULL|       NULL|        NULL|     NULL|               NULL|              NULL|        NULL|    NULL|    NULL|\n|8320791a|2020-03-15|        2|  NULL|     NULL| NULL|    NULL|             NULL|                   NULL|NULL|NULL|NULL|          NULL|             NULL|         NULL|                   NULL|             NULL|                  NULL|                          NULL|                               NULL|                 NULL|          NULL|           NULL|            NULL|              NULL|                     NULL|                     NULL|            NULL|                    NULL|                  NULL|                        1|             Grand Princess|                       NULL|                       NULL|    NULL|     NULL|      3533|       NULL|       NULL|       NULL|        NULL|     NULL|               NULL|              NULL|        NULL|    NULL|    NULL|\n|8320791a|2020-03-16|        2|  NULL|     NULL| NULL|    NULL|             NULL|                   NULL|NULL|NULL|NULL|          NULL|             NULL|         NULL|                   NULL|             NULL|                  NULL|                          NULL|                               NULL|                 NULL|          NULL|           NULL|            NULL|              NULL|                     NULL|                     NULL|            NULL|                    NULL|                  NULL|                        1|             Grand Princess|                       NULL|                       NULL|    NULL|     NULL|      3533|       NULL|       NULL|       NULL|        NULL|     NULL|               NULL|              NULL|        NULL|    NULL|    NULL|\n|8320791a|2020-03-17|        8|  NULL|     NULL| NULL|    NULL|             NULL|                   NULL|NULL|NULL|NULL|          NULL|             NULL|         NULL|                   NULL|             NULL|                  NULL|                          NULL|                               NULL|                 NULL|          NULL|           NULL|            NULL|              NULL|                     NULL|                     NULL|            NULL|                    NULL|                  NULL|                        1|             Grand Princess|                       NULL|                       NULL|    NULL|     NULL|      3533|       NULL|       NULL|       NULL|        NULL|     NULL|               NULL|              NULL|        NULL|    NULL|    NULL|\n|8320791a|2020-03-18|        9|  NULL|     NULL| NULL|    NULL|             NULL|                   NULL|NULL|NULL|NULL|          NULL|             NULL|         NULL|                   NULL|             NULL|                  NULL|                          NULL|                               NULL|                 NULL|          NULL|           NULL|            NULL|              NULL|                     NULL|                     NULL|            NULL|                    NULL|                  NULL|                        1|             Grand Princess|                       NULL|                       NULL|    NULL|     NULL|      3533|       NULL|       NULL|       NULL|        NULL|     NULL|               NULL|              NULL|        NULL|    NULL|    NULL|\n|8320791a|2020-03-19|        9|  NULL|     NULL| NULL|    NULL|             NULL|                   NULL|NULL|NULL|NULL|          NULL|             NULL|         NULL|                   NULL|             NULL|                  NULL|                          NULL|                               NULL|                 NULL|          NULL|           NULL|            NULL|              NULL|                     NULL|                     NULL|            NULL|                    NULL|                  NULL|                        1|             Grand Princess|                       NULL|                       NULL|    NULL|     NULL|      3533|       NULL|       NULL|       NULL|        NULL|     NULL|               NULL|              NULL|        NULL|    NULL|    NULL|\n|8320791a|2020-03-20|       10|  NULL|     NULL| NULL|    NULL|             NULL|                   NULL|NULL|NULL|NULL|          NULL|             NULL|         NULL|                   NULL|             NULL|                  NULL|                          NULL|                               NULL|                 NULL|          NULL|           NULL|            NULL|              NULL|                     NULL|                     NULL|            NULL|                    NULL|                  NULL|                        1|             Grand Princess|                       NULL|                       NULL|    NULL|     NULL|      3533|       NULL|       NULL|       NULL|        NULL|     NULL|               NULL|              NULL|        NULL|    NULL|    NULL|\n|8320791a|2020-03-21|       10|  NULL|     NULL| NULL|    NULL|             NULL|                   NULL|NULL|NULL|NULL|          NULL|             NULL|         NULL|                   NULL|             NULL|                  NULL|                          NULL|                               NULL|                 NULL|          NULL|           NULL|            NULL|              NULL|                     NULL|                     NULL|            NULL|                    NULL|                  NULL|                        1|             Grand Princess|                       NULL|                       NULL|    NULL|     NULL|      3533|       NULL|       NULL|       NULL|        NULL|     NULL|               NULL|              NULL|        NULL|    NULL|    NULL|\n|8320791a|2020-03-22|       13|  NULL|     NULL| NULL|    NULL|             NULL|                   NULL|NULL|NULL|NULL|          NULL|             NULL|         NULL|                   NULL|             NULL|                  NULL|                          NULL|                               NULL|                 NULL|          NULL|           NULL|            NULL|              NULL|                     NULL|                     NULL|            NULL|                    NULL|                  NULL|                        1|             Grand Princess|                       NULL|                       NULL|    NULL|     NULL|      3533|       NULL|       NULL|       NULL|        NULL|     NULL|               NULL|              NULL|        NULL|    NULL|    NULL|\n|d7f0f2d6|2020-04-21|        1|     0|        0|    4|    NULL|             NULL|                   NULL|   1|NULL|NULL|          NULL|             NULL|         NULL|                   NULL|             NULL|                  NULL|                          NULL|                               NULL|                 NULL|          NULL|           NULL|            NULL|              NULL|                     NULL|                     NULL|            NULL|                    NULL|                  NULL|                        1|            Costa Atlantica|                       NULL|                       NULL|    NULL|     NULL|       623|       NULL|       NULL|       NULL|        NULL|     NULL|               NULL|              NULL|        NULL|    NULL|    NULL|\n|d7f0f2d6|2020-04-22|       34|     0|     NULL| NULL|    NULL|             NULL|                   NULL|NULL|NULL|NULL|          NULL|             NULL|         NULL|                   NULL|             NULL|                  NULL|                          NULL|                               NULL|                 NULL|          NULL|           NULL|            NULL|              NULL|                     NULL|                     NULL|            NULL|                    NULL|                  NULL|                        1|            Costa Atlantica|                       NULL|                       NULL|    NULL|     NULL|       623|       NULL|       NULL|       NULL|        NULL|     NULL|               NULL|              NULL|        NULL|    NULL|    NULL|\n|d7f0f2d6|2020-04-23|       48|     0|        0|   61|    NULL|             NULL|                   NULL|  34|NULL|NULL|          NULL|             NULL|         NULL|                   NULL|             NULL|                  NULL|                          NULL|                               NULL|                 NULL|          NULL|           NULL|            NULL|              NULL|                     NULL|                     NULL|            NULL|                    NULL|                  NULL|                        1|            Costa Atlantica|                       NULL|                       NULL|    NULL|     NULL|       623|       NULL|       NULL|       NULL|        NULL|     NULL|               NULL|              NULL|        NULL|    NULL|    NULL|\n|d7f0f2d6|2020-04-24|       91|     0|        0|  127|    NULL|             NULL|                   NULL|  48|NULL|NULL|          NULL|             NULL|         NULL|                   NULL|             NULL|                  NULL|                          NULL|                               NULL|                 NULL|          NULL|           NULL|            NULL|              NULL|                     NULL|                     NULL|            NULL|                    NULL|                  NULL|                        1|            Costa Atlantica|                       NULL|                       NULL|    NULL|     NULL|       623|       NULL|       NULL|       NULL|        NULL|     NULL|               NULL|              NULL|        NULL|    NULL|    NULL|\n|d7f0f2d6|2020-04-25|      148|     0|        0|  335|    NULL|             NULL|                   NULL|  91|NULL|NULL|          NULL|             NULL|         NULL|                   NULL|             NULL|                  NULL|                          NULL|                               NULL|                 NULL|          NULL|           NULL|            NULL|              NULL|                     NULL|                     NULL|            NULL|                    NULL|                  NULL|                        1|            Costa Atlantica|                       NULL|                       NULL|    NULL|     NULL|       623|       NULL|       NULL|       NULL|        NULL|     NULL|               NULL|              NULL|        NULL|    NULL|    NULL|\n|d7f0f2d6|2020-04-26|      148|     0|        0|  623|    NULL|             NULL|                   NULL| 148|NULL|NULL|          NULL|             NULL|         NULL|                   NULL|             NULL|                  NULL|                          NULL|                               NULL|                 NULL|          NULL|           NULL|            NULL|              NULL|                     NULL|                     NULL|            NULL|                    NULL|                  NULL|                        1|            Costa Atlantica|                       NULL|                       NULL|    NULL|     NULL|       623|       NULL|       NULL|       NULL|        NULL|     NULL|               NULL|              NULL|        NULL|    NULL|    NULL|\n|d7f0f2d6|2020-04-27|      148|     0|        0|  623|    NULL|             NULL|                   NULL| 148|NULL|NULL|          NULL|             NULL|         NULL|                   NULL|             NULL|                  NULL|                          NULL|                               NULL|                 NULL|          NULL|           NULL|            NULL|              NULL|                     NULL|                     NULL|            NULL|                    NULL|                  NULL|                        1|            Costa Atlantica|                       NULL|                       NULL|    NULL|     NULL|       623|       NULL|       NULL|       NULL|        NULL|     NULL|               NULL|              NULL|        NULL|    NULL|    NULL|\n|d7f0f2d6|2020-04-28|      148|     0|        0|  623|    NULL|             NULL|                   NULL| 148|NULL|NULL|          NULL|             NULL|         NULL|                   NULL|             NULL|                  NULL|                          NULL|                               NULL|                 NULL|          NULL|           NULL|            NULL|              NULL|                     NULL|                     NULL|            NULL|                    NULL|                  NULL|                        1|            Costa Atlantica|                       NULL|                       NULL|    NULL|     NULL|       623|       NULL|       NULL|       NULL|        NULL|     NULL|               NULL|              NULL|        NULL|    NULL|    NULL|\n|d7f0f2d6|2020-04-29|      148|     0|        0|  623|    NULL|             NULL|                   NULL| 148|NULL|NULL|          NULL|             NULL|         NULL|                   NULL|             NULL|                  NULL|                          NULL|                               NULL|                 NULL|          NULL|           NULL|            NULL|              NULL|                     NULL|                     NULL|            NULL|                    NULL|                  NULL|                        1|            Costa Atlantica|                       NULL|                       NULL|    NULL|     NULL|       623|       NULL|       NULL|       NULL|        NULL|     NULL|               NULL|              NULL|        NULL|    NULL|    NULL|\n|d7f0f2d6|2020-04-30|      148|     0|        0|  623|    NULL|             NULL|                   NULL| 148|NULL|NULL|          NULL|             NULL|         NULL|                   NULL|             NULL|                  NULL|                          NULL|                               NULL|                 NULL|          NULL|           NULL|            NULL|              NULL|                     NULL|                     NULL|            NULL|                    NULL|                  NULL|                        1|            Costa Atlantica|                       NULL|                       NULL|    NULL|     NULL|       623|       NULL|       NULL|       NULL|        NULL|     NULL|               NULL|              NULL|        NULL|    NULL|    NULL|\n+--------+----------+---------+------+---------+-----+--------+-----------------+-----------------------+----+----+----+--------------+-----------------+-------------+-----------------------+-----------------+----------------------+------------------------------+-----------------------------------+---------------------+--------------+---------------+----------------+------------------+-------------------------+-------------------------+----------------+------------------------+----------------------+-------------------------+---------------------------+---------------------------+---------------------------+--------+---------+----------+-----------+-----------+-----------+------------+---------+-------------------+------------------+------------+--------+--------+\nonly showing top 20 rows\n\nroot\n |-- id: string (nullable = true)\n |-- date: date (nullable = true)\n |-- confirmed: integer (nullable = true)\n |-- deaths: integer (nullable = true)\n |-- recovered: integer (nullable = true)\n |-- tests: long (nullable = true)\n |-- vaccines: long (nullable = true)\n |-- people_vaccinated: integer (nullable = true)\n |-- people_fully_vaccinated: integer (nullable = true)\n |-- hosp: integer (nullable = true)\n |-- icu: integer (nullable = true)\n |-- vent: integer (nullable = true)\n |-- school_closing: integer (nullable = true)\n |-- workplace_closing: integer (nullable = true)\n |-- cancel_events: integer (nullable = true)\n |-- gatherings_restrictions: integer (nullable = true)\n |-- transport_closing: integer (nullable = true)\n |-- stay_home_restrictions: integer (nullable = true)\n |-- internal_movement_restrictions: integer (nullable = true)\n |-- international_movement_restrictions: integer (nullable = true)\n |-- information_campaigns: integer (nullable = true)\n |-- testing_policy: integer (nullable = true)\n |-- contact_tracing: integer (nullable = true)\n |-- facial_coverings: integer (nullable = true)\n |-- vaccination_policy: integer (nullable = true)\n |-- elderly_people_protection: integer (nullable = true)\n |-- government_response_index: double (nullable = true)\n |-- stringency_index: double (nullable = true)\n |-- containment_health_index: double (nullable = true)\n |-- economic_support_index: double (nullable = true)\n |-- administrative_area_level: integer (nullable = true)\n |-- administrative_area_level_1: string (nullable = true)\n |-- administrative_area_level_2: string (nullable = true)\n |-- administrative_area_level_3: string (nullable = true)\n |-- latitude: double (nullable = true)\n |-- longitude: double (nullable = true)\n |-- population: integer (nullable = true)\n |-- iso_alpha_3: string (nullable = true)\n |-- iso_alpha_2: string (nullable = true)\n |-- iso_numeric: integer (nullable = true)\n |-- iso_currency: string (nullable = true)\n |-- key_local: string (nullable = true)\n |-- key_google_mobility: string (nullable = true)\n |-- key_apple_mobility: string (nullable = true)\n |-- key_jhu_csse: string (nullable = true)\n |-- key_nuts: string (nullable = true)\n |-- key_gadm: string (nullable = true)\n\n"
     ]
    }
   ],
   "source": [
    "countries.show()\n",
    "countries.printSchema()"
   ]
  },
  {
   "cell_type": "code",
   "execution_count": 0,
   "metadata": {
    "application/vnd.databricks.v1+cell": {
     "cellMetadata": {
      "byteLimit": 2048000,
      "rowLimit": 10000
     },
     "inputWidgets": {},
     "nuid": "507bd3c2-5546-4126-ac53-2f9bb00ba709",
     "showTitle": false,
     "title": ""
    }
   },
   "outputs": [
    {
     "output_type": "stream",
     "name": "stdout",
     "output_type": "stream",
     "text": [
      "+--------+----------+---------+------+---------+-----+--------+-----------------+-----------------------+----+----+----+--------------+-----------------+-------------+-----------------------+-----------------+----------------------+------------------------------+-----------------------------------+---------------------+--------------+---------------+----------------+------------------+-------------------------+-------------------------+----------------+------------------------+----------------------+-------------------------+---------------------------+---------------------------+---------------------------+----------+----------------+----------+-----------+-----------+-----------+------------+---------+-------------------+------------------+------------+--------+--------+\n|      id|      date|confirmed|deaths|recovered|tests|vaccines|people_vaccinated|people_fully_vaccinated|hosp| icu|vent|school_closing|workplace_closing|cancel_events|gatherings_restrictions|transport_closing|stay_home_restrictions|internal_movement_restrictions|international_movement_restrictions|information_campaigns|testing_policy|contact_tracing|facial_coverings|vaccination_policy|elderly_people_protection|government_response_index|stringency_index|containment_health_index|economic_support_index|administrative_area_level|administrative_area_level_1|administrative_area_level_2|administrative_area_level_3|  latitude|       longitude|population|iso_alpha_3|iso_alpha_2|iso_numeric|iso_currency|key_local|key_google_mobility|key_apple_mobility|key_jhu_csse|key_nuts|key_gadm|\n+--------+----------+---------+------+---------+-----+--------+-----------------+-----------------------+----+----+----+--------------+-----------------+-------------+-----------------------+-----------------+----------------------+------------------------------+-----------------------------------+---------------------+--------------+---------------+----------------+------------------+-------------------------+-------------------------+----------------+------------------------+----------------------+-------------------------+---------------------------+---------------------------+---------------------------+----------+----------------+----------+-----------+-----------+-----------+------------+---------+-------------------+------------------+------------+--------+--------+\n|0042529a|2020-01-12|        0|     0|     NULL| NULL|    NULL|             NULL|                   NULL|NULL|NULL|NULL|             0|                0|            0|                      0|                0|                     0|                             0|                                  0|                    0|             0|              0|               0|                 0|                        0|                      0.0|             0.0|                     0.0|                   0.0|                        2|                   Thailand|                   Yasothon|                       NULL|15.8180151|104.275452488023|    487976|        THA|         TH|        764|         THB|       35|               NULL| Yasothon Province|        NULL|    NULL|THA.77_1|\n|0042529a|2020-01-13|        0|     0|     NULL| NULL|    NULL|             NULL|                   NULL|NULL|NULL|NULL|             0|                0|            0|                      0|                0|                     0|                             0|                                  0|                    0|             0|              0|               0|                 0|                        0|                      0.0|             0.0|                     0.0|                   0.0|                        2|                   Thailand|                   Yasothon|                       NULL|15.8180151|104.275452488023|    487976|        THA|         TH|        764|         THB|       35|               NULL| Yasothon Province|        NULL|    NULL|THA.77_1|\n|0042529a|2020-01-14|        0|     0|     NULL| NULL|    NULL|             NULL|                   NULL|NULL|NULL|NULL|             0|                0|            0|                      0|                0|                     0|                             0|                                  0|                    0|             0|              0|               0|                 0|                        0|                      0.0|             0.0|                     0.0|                   0.0|                        2|                   Thailand|                   Yasothon|                       NULL|15.8180151|104.275452488023|    487976|        THA|         TH|        764|         THB|       35|               NULL| Yasothon Province|        NULL|    NULL|THA.77_1|\n|0042529a|2020-01-15|        0|     0|     NULL| NULL|    NULL|             NULL|                   NULL|NULL|NULL|NULL|             0|                0|            0|                      0|                0|                     0|                             0|                                  0|                    0|             0|              0|               0|                 0|                        0|                      0.0|             0.0|                     0.0|                   0.0|                        2|                   Thailand|                   Yasothon|                       NULL|15.8180151|104.275452488023|    487976|        THA|         TH|        764|         THB|       35|               NULL| Yasothon Province|        NULL|    NULL|THA.77_1|\n|0042529a|2020-01-16|        0|     0|     NULL| NULL|    NULL|             NULL|                   NULL|NULL|NULL|NULL|             0|                0|            0|                      0|                0|                     0|                             0|                                  0|                    0|             0|              0|               0|                 0|                        0|                      0.0|             0.0|                     0.0|                   0.0|                        2|                   Thailand|                   Yasothon|                       NULL|15.8180151|104.275452488023|    487976|        THA|         TH|        764|         THB|       35|               NULL| Yasothon Province|        NULL|    NULL|THA.77_1|\n|0042529a|2020-01-17|        0|     0|     NULL| NULL|    NULL|             NULL|                   NULL|NULL|NULL|NULL|             0|                0|            0|                      0|                0|                     0|                             0|                                  0|                    0|             0|              0|               0|                 0|                        0|                      0.0|             0.0|                     0.0|                   0.0|                        2|                   Thailand|                   Yasothon|                       NULL|15.8180151|104.275452488023|    487976|        THA|         TH|        764|         THB|       35|               NULL| Yasothon Province|        NULL|    NULL|THA.77_1|\n|0042529a|2020-01-18|        0|     0|     NULL| NULL|    NULL|             NULL|                   NULL|NULL|NULL|NULL|             0|                0|            0|                      0|                0|                     0|                             0|                                  0|                    0|             0|              0|               0|                 0|                        0|                      0.0|             0.0|                     0.0|                   0.0|                        2|                   Thailand|                   Yasothon|                       NULL|15.8180151|104.275452488023|    487976|        THA|         TH|        764|         THB|       35|               NULL| Yasothon Province|        NULL|    NULL|THA.77_1|\n|0042529a|2020-01-19|        0|     0|     NULL| NULL|    NULL|             NULL|                   NULL|NULL|NULL|NULL|             0|                0|            0|                      0|                0|                     0|                             0|                                  0|                    0|             0|              0|               0|                 0|                        0|                      0.0|             0.0|                     0.0|                   0.0|                        2|                   Thailand|                   Yasothon|                       NULL|15.8180151|104.275452488023|    487976|        THA|         TH|        764|         THB|       35|               NULL| Yasothon Province|        NULL|    NULL|THA.77_1|\n|0042529a|2020-01-20|        0|     0|     NULL| NULL|    NULL|             NULL|                   NULL|NULL|NULL|NULL|             0|                0|            0|                      0|                0|                     0|                             0|                                  0|                    0|             0|              0|               0|                 0|                        0|                      0.0|             0.0|                     0.0|                   0.0|                        2|                   Thailand|                   Yasothon|                       NULL|15.8180151|104.275452488023|    487976|        THA|         TH|        764|         THB|       35|               NULL| Yasothon Province|        NULL|    NULL|THA.77_1|\n|0042529a|2020-01-21|        0|     0|     NULL| NULL|    NULL|             NULL|                   NULL|NULL|NULL|NULL|             0|                0|            0|                      0|                0|                     0|                             0|                                  0|                    0|             0|              0|               0|                 0|                        0|                      0.0|             0.0|                     0.0|                   0.0|                        2|                   Thailand|                   Yasothon|                       NULL|15.8180151|104.275452488023|    487976|        THA|         TH|        764|         THB|       35|               NULL| Yasothon Province|        NULL|    NULL|THA.77_1|\n|0042529a|2020-01-22|        0|     0|     NULL| NULL|    NULL|             NULL|                   NULL|NULL|NULL|NULL|             0|                0|            0|                      0|                0|                     0|                             0|                                  0|                    0|             0|              0|               0|                 0|                        0|                      0.0|             0.0|                     0.0|                   0.0|                        2|                   Thailand|                   Yasothon|                       NULL|15.8180151|104.275452488023|    487976|        THA|         TH|        764|         THB|       35|               NULL| Yasothon Province|        NULL|    NULL|THA.77_1|\n|0042529a|2020-01-23|        0|     0|     NULL| NULL|    NULL|             NULL|                   NULL|NULL|NULL|NULL|             0|                0|            0|                      0|                0|                     0|                             0|                                  0|                    0|             0|              0|               0|                 0|                        0|                      0.0|             0.0|                     0.0|                   0.0|                        2|                   Thailand|                   Yasothon|                       NULL|15.8180151|104.275452488023|    487976|        THA|         TH|        764|         THB|       35|               NULL| Yasothon Province|        NULL|    NULL|THA.77_1|\n|0042529a|2020-01-24|        0|     0|     NULL| NULL|    NULL|             NULL|                   NULL|NULL|NULL|NULL|             0|                0|            0|                      0|                0|                     0|                             0|                                  0|                    0|             0|              0|               0|                 0|                        0|                      0.0|             0.0|                     0.0|                   0.0|                        2|                   Thailand|                   Yasothon|                       NULL|15.8180151|104.275452488023|    487976|        THA|         TH|        764|         THB|       35|               NULL| Yasothon Province|        NULL|    NULL|THA.77_1|\n|0042529a|2020-01-25|        0|     0|     NULL| NULL|    NULL|             NULL|                   NULL|NULL|NULL|NULL|             0|                0|            0|                      0|                0|                     0|                             0|                                  0|                    0|             0|              0|               0|                 0|                        0|                      0.0|             0.0|                     0.0|                   0.0|                        2|                   Thailand|                   Yasothon|                       NULL|15.8180151|104.275452488023|    487976|        THA|         TH|        764|         THB|       35|               NULL| Yasothon Province|        NULL|    NULL|THA.77_1|\n|0042529a|2020-01-26|        0|     0|     NULL| NULL|    NULL|             NULL|                   NULL|NULL|NULL|NULL|             0|                0|            0|                      0|                0|                     0|                             0|                                  0|                    0|             0|              0|               0|                 0|                        0|                      0.0|             0.0|                     0.0|                   0.0|                        2|                   Thailand|                   Yasothon|                       NULL|15.8180151|104.275452488023|    487976|        THA|         TH|        764|         THB|       35|               NULL| Yasothon Province|        NULL|    NULL|THA.77_1|\n|0042529a|2020-01-27|        0|     0|     NULL| NULL|    NULL|             NULL|                   NULL|NULL|NULL|NULL|             0|                0|            0|                      0|                0|                     0|                             0|                                  0|                    0|             0|              0|               0|                 0|                        0|                      0.0|             0.0|                     0.0|                   0.0|                        2|                   Thailand|                   Yasothon|                       NULL|15.8180151|104.275452488023|    487976|        THA|         TH|        764|         THB|       35|               NULL| Yasothon Province|        NULL|    NULL|THA.77_1|\n|0042529a|2020-01-28|        0|     0|     NULL| NULL|    NULL|             NULL|                   NULL|NULL|NULL|NULL|             0|                0|            0|                      0|                0|                     0|                             0|                                  0|                    0|             0|              0|               0|                 0|                        0|                      0.0|             0.0|                     0.0|                   0.0|                        2|                   Thailand|                   Yasothon|                       NULL|15.8180151|104.275452488023|    487976|        THA|         TH|        764|         THB|       35|               NULL| Yasothon Province|        NULL|    NULL|THA.77_1|\n|0042529a|2020-01-29|        0|     0|     NULL| NULL|    NULL|             NULL|                   NULL|NULL|NULL|NULL|             0|                0|            0|                      0|                0|                     0|                             0|                                  0|                    0|             0|              0|               0|                 0|                        0|                      0.0|             0.0|                     0.0|                   0.0|                        2|                   Thailand|                   Yasothon|                       NULL|15.8180151|104.275452488023|    487976|        THA|         TH|        764|         THB|       35|               NULL| Yasothon Province|        NULL|    NULL|THA.77_1|\n|0042529a|2020-01-30|        0|     0|     NULL| NULL|    NULL|             NULL|                   NULL|NULL|NULL|NULL|             0|                0|            0|                      0|                0|                     0|                             0|                                  0|                    0|             0|              0|               0|                 0|                        0|                      0.0|             0.0|                     0.0|                   0.0|                        2|                   Thailand|                   Yasothon|                       NULL|15.8180151|104.275452488023|    487976|        THA|         TH|        764|         THB|       35|               NULL| Yasothon Province|        NULL|    NULL|THA.77_1|\n|0042529a|2020-01-31|        0|     0|     NULL| NULL|    NULL|             NULL|                   NULL|NULL|NULL|NULL|             0|                0|            0|                      0|                0|                     0|                             0|                                  0|                    0|             0|              0|               0|                 0|                        0|                      0.0|             0.0|                     0.0|                   0.0|                        2|                   Thailand|                   Yasothon|                       NULL|15.8180151|104.275452488023|    487976|        THA|         TH|        764|         THB|       35|               NULL| Yasothon Province|        NULL|    NULL|THA.77_1|\n+--------+----------+---------+------+---------+-----+--------+-----------------+-----------------------+----+----+----+--------------+-----------------+-------------+-----------------------+-----------------+----------------------+------------------------------+-----------------------------------+---------------------+--------------+---------------+----------------+------------------+-------------------------+-------------------------+----------------+------------------------+----------------------+-------------------------+---------------------------+---------------------------+---------------------------+----------+----------------+----------+-----------+-----------+-----------+------------+---------+-------------------+------------------+------------+--------+--------+\nonly showing top 20 rows\n\nroot\n |-- id: string (nullable = true)\n |-- date: date (nullable = true)\n |-- confirmed: integer (nullable = true)\n |-- deaths: integer (nullable = true)\n |-- recovered: integer (nullable = true)\n |-- tests: integer (nullable = true)\n |-- vaccines: integer (nullable = true)\n |-- people_vaccinated: integer (nullable = true)\n |-- people_fully_vaccinated: integer (nullable = true)\n |-- hosp: integer (nullable = true)\n |-- icu: integer (nullable = true)\n |-- vent: integer (nullable = true)\n |-- school_closing: integer (nullable = true)\n |-- workplace_closing: integer (nullable = true)\n |-- cancel_events: integer (nullable = true)\n |-- gatherings_restrictions: integer (nullable = true)\n |-- transport_closing: integer (nullable = true)\n |-- stay_home_restrictions: integer (nullable = true)\n |-- internal_movement_restrictions: integer (nullable = true)\n |-- international_movement_restrictions: integer (nullable = true)\n |-- information_campaigns: integer (nullable = true)\n |-- testing_policy: integer (nullable = true)\n |-- contact_tracing: integer (nullable = true)\n |-- facial_coverings: integer (nullable = true)\n |-- vaccination_policy: integer (nullable = true)\n |-- elderly_people_protection: integer (nullable = true)\n |-- government_response_index: double (nullable = true)\n |-- stringency_index: double (nullable = true)\n |-- containment_health_index: double (nullable = true)\n |-- economic_support_index: double (nullable = true)\n |-- administrative_area_level: integer (nullable = true)\n |-- administrative_area_level_1: string (nullable = true)\n |-- administrative_area_level_2: string (nullable = true)\n |-- administrative_area_level_3: string (nullable = true)\n |-- latitude: double (nullable = true)\n |-- longitude: double (nullable = true)\n |-- population: integer (nullable = true)\n |-- iso_alpha_3: string (nullable = true)\n |-- iso_alpha_2: string (nullable = true)\n |-- iso_numeric: integer (nullable = true)\n |-- iso_currency: string (nullable = true)\n |-- key_local: string (nullable = true)\n |-- key_google_mobility: string (nullable = true)\n |-- key_apple_mobility: string (nullable = true)\n |-- key_jhu_csse: string (nullable = true)\n |-- key_nuts: string (nullable = true)\n |-- key_gadm: string (nullable = true)\n\n"
     ]
    }
   ],
   "source": [
    "states.show()\n",
    "states.printSchema()"
   ]
  },
  {
   "cell_type": "code",
   "execution_count": 0,
   "metadata": {
    "application/vnd.databricks.v1+cell": {
     "cellMetadata": {
      "byteLimit": 2048000,
      "rowLimit": 10000
     },
     "inputWidgets": {},
     "nuid": "a807a387-7094-4cbe-b3b3-80a87360c1d6",
     "showTitle": false,
     "title": ""
    }
   },
   "outputs": [
    {
     "output_type": "stream",
     "name": "stdout",
     "output_type": "stream",
     "text": [
      "+--------+----------+---------+------+---------+-----+--------+-----------------+-----------------------+----+----+----+--------------+-----------------+-------------+-----------------------+-----------------+----------------------+------------------------------+-----------------------------------+---------------------+--------------+---------------+----------------+------------------+-------------------------+-------------------------+----------------+------------------------+----------------------+-------------------------+---------------------------+---------------------------+---------------------------+----------------+-----------------+----------+-----------+-----------+-----------+------------+---------+--------------------+------------------+------------+--------+------------+\n|      id|      date|confirmed|deaths|recovered|tests|vaccines|people_vaccinated|people_fully_vaccinated|hosp| icu|vent|school_closing|workplace_closing|cancel_events|gatherings_restrictions|transport_closing|stay_home_restrictions|internal_movement_restrictions|international_movement_restrictions|information_campaigns|testing_policy|contact_tracing|facial_coverings|vaccination_policy|elderly_people_protection|government_response_index|stringency_index|containment_health_index|economic_support_index|administrative_area_level|administrative_area_level_1|administrative_area_level_2|administrative_area_level_3|        latitude|        longitude|population|iso_alpha_3|iso_alpha_2|iso_numeric|iso_currency|key_local| key_google_mobility|key_apple_mobility|key_jhu_csse|key_nuts|    key_gadm|\n+--------+----------+---------+------+---------+-----+--------+-----------------+-----------------------+----+----+----+--------------+-----------------+-------------+-----------------------+-----------------+----------------------+------------------------------+-----------------------------------+---------------------+--------------+---------------+----------------+------------------+-------------------------+-------------------------+----------------+------------------------+----------------------+-------------------------+---------------------------+---------------------------+---------------------------+----------------+-----------------+----------+-----------+-----------+-----------+------------+---------+--------------------+------------------+------------+--------+------------+\n|0007cb93|2020-03-30|        1|     0|     NULL| NULL|    NULL|             NULL|                   NULL|NULL|NULL|NULL|             3|                2|            1|                      4|               -1|                    -2|                             1|                                  3|                    2|             1|              1|               0|                 0|                        3|                   -60.94|          -68.52|                  -57.14|                 -87.5|                        3|              United States|                    Georgia|                     Schley|32.2920150756836|-84.3160445226859|      5257|        USA|         US|        840|         USD|    13249|ChIJzXKpmryy84gRd...|              NULL|     US13249|    NULL|USA.11.123_1|\n|0007cb93|2020-03-31|        4|     0|     NULL| NULL|    NULL|             NULL|                   NULL|NULL|NULL|NULL|             3|                2|            1|                      4|               -1|                    -2|                             1|                                  3|                    2|             1|              1|               0|                 0|                        3|                   -60.94|          -68.52|                  -57.14|                 -87.5|                        3|              United States|                    Georgia|                     Schley|32.2920150756836|-84.3160445226859|      5257|        USA|         US|        840|         USD|    13249|ChIJzXKpmryy84gRd...|              NULL|     US13249|    NULL|USA.11.123_1|\n|0007cb93|2020-04-01|        4|     0|     NULL| NULL|    NULL|             NULL|                   NULL|NULL|NULL|NULL|             3|                2|            1|                      4|               -1|                    -2|                             1|                                  3|                    2|             1|              1|               0|                 0|                        3|                   -60.94|          -68.52|                  -57.14|                 -87.5|                        3|              United States|                    Georgia|                     Schley|32.2920150756836|-84.3160445226859|      5257|        USA|         US|        840|         USD|    13249|ChIJzXKpmryy84gRd...|              NULL|     US13249|    NULL|USA.11.123_1|\n|0007cb93|2020-04-02|        4|     0|     NULL| NULL|    NULL|             NULL|                   NULL|NULL|NULL|NULL|             3|                2|            1|                      4|               -1|                    -2|                             1|                                  3|                    2|             1|              1|               0|                 0|                        3|                   -60.94|          -68.52|                  -57.14|                 -87.5|                        3|              United States|                    Georgia|                     Schley|32.2920150756836|-84.3160445226859|      5257|        USA|         US|        840|         USD|    13249|ChIJzXKpmryy84gRd...|              NULL|     US13249|    NULL|USA.11.123_1|\n|0007cb93|2020-04-03|        5|     0|     NULL| NULL|    NULL|             NULL|                   NULL|NULL|NULL|NULL|             3|                2|            2|                      4|               -1|                     2|                             1|                                  3|                    2|             1|              1|               0|                 0|                        3|                    -65.1|          -75.93|                   -61.9|                 -87.5|                        3|              United States|                    Georgia|                     Schley|32.2920150756836|-84.3160445226859|      5257|        USA|         US|        840|         USD|    13249|ChIJzXKpmryy84gRd...|              NULL|     US13249|    NULL|USA.11.123_1|\n|0007cb93|2020-04-04|        6|     0|     NULL| NULL|    NULL|             NULL|                   NULL|NULL|NULL|NULL|             3|                2|            2|                      4|               -1|                     2|                             1|                                  3|                    2|             1|              1|               1|                 0|                        3|                   -66.67|          -75.93|                  -63.69|                 -87.5|                        3|              United States|                    Georgia|                     Schley|32.2920150756836|-84.3160445226859|      5257|        USA|         US|        840|         USD|    13249|ChIJzXKpmryy84gRd...|              NULL|     US13249|    NULL|USA.11.123_1|\n|0007cb93|2020-04-05|        6|     0|     NULL| NULL|    NULL|             NULL|                   NULL|NULL|NULL|NULL|             3|                2|            2|                      4|               -1|                     2|                             1|                                  3|                    2|             1|              1|               1|                 0|                        3|                   -66.67|          -75.93|                  -63.69|                 -87.5|                        3|              United States|                    Georgia|                     Schley|32.2920150756836|-84.3160445226859|      5257|        USA|         US|        840|         USD|    13249|ChIJzXKpmryy84gRd...|              NULL|     US13249|    NULL|USA.11.123_1|\n|0007cb93|2020-04-06|        7|     1|     NULL| NULL|    NULL|             NULL|                   NULL|NULL|NULL|NULL|             3|                2|            2|                      4|               -1|                     2|                             1|                                  3|                    2|             1|              1|               1|                 0|                        3|                   -66.67|          -75.93|                  -63.69|                 -87.5|                        3|              United States|                    Georgia|                     Schley|32.2920150756836|-84.3160445226859|      5257|        USA|         US|        840|         USD|    13249|ChIJzXKpmryy84gRd...|              NULL|     US13249|    NULL|USA.11.123_1|\n|0007cb93|2020-04-07|       10|     1|     NULL| NULL|    NULL|             NULL|                   NULL|NULL|NULL|NULL|             3|                2|            2|                      4|               -1|                     2|                             1|                                  3|                    2|             2|              1|               1|                 0|                        3|                   -68.75|          -75.93|                  -66.07|                 -87.5|                        3|              United States|                    Georgia|                     Schley|32.2920150756836|-84.3160445226859|      5257|        USA|         US|        840|         USD|    13249|ChIJzXKpmryy84gRd...|              NULL|     US13249|    NULL|USA.11.123_1|\n|0007cb93|2020-04-08|       10|     1|     NULL| NULL|    NULL|             NULL|                   NULL|NULL|NULL|NULL|             3|                2|            2|                      4|               -1|                     2|                             1|                                  3|                    2|             2|              1|               1|                 0|                        3|                   -68.75|          -75.93|                  -66.07|                 -87.5|                        3|              United States|                    Georgia|                     Schley|32.2920150756836|-84.3160445226859|      5257|        USA|         US|        840|         USD|    13249|ChIJzXKpmryy84gRd...|              NULL|     US13249|    NULL|USA.11.123_1|\n|0007cb93|2020-04-09|       11|     1|     NULL| NULL|    NULL|             NULL|                   NULL|NULL|NULL|NULL|             3|                2|            2|                      4|               -1|                     2|                             1|                                  3|                    2|             2|              1|               1|                 0|                        3|                   -68.75|          -75.93|                  -66.07|                 -87.5|                        3|              United States|                    Georgia|                     Schley|32.2920150756836|-84.3160445226859|      5257|        USA|         US|        840|         USD|    13249|ChIJzXKpmryy84gRd...|              NULL|     US13249|    NULL|USA.11.123_1|\n|0007cb93|2020-04-10|       12|     1|     NULL| NULL|    NULL|             NULL|                   NULL|NULL|NULL|NULL|             3|                2|            2|                      4|               -1|                     2|                             1|                                  3|                    2|             2|              1|               1|                 0|                        3|                   -68.75|          -75.93|                  -66.07|                 -87.5|                        3|              United States|                    Georgia|                     Schley|32.2920150756836|-84.3160445226859|      5257|        USA|         US|        840|         USD|    13249|ChIJzXKpmryy84gRd...|              NULL|     US13249|    NULL|USA.11.123_1|\n|0007cb93|2020-04-11|       12|     1|     NULL| NULL|    NULL|             NULL|                   NULL|NULL|NULL|NULL|             3|                2|            2|                      4|               -1|                     2|                             1|                                  3|                    2|             2|              1|               1|                 0|                        3|                   -68.75|          -75.93|                  -66.07|                 -87.5|                        3|              United States|                    Georgia|                     Schley|32.2920150756836|-84.3160445226859|      5257|        USA|         US|        840|         USD|    13249|ChIJzXKpmryy84gRd...|              NULL|     US13249|    NULL|USA.11.123_1|\n|0007cb93|2020-04-12|       12|     1|     NULL| NULL|    NULL|             NULL|                   NULL|NULL|NULL|NULL|             3|                2|            2|                      4|               -1|                     2|                             1|                                  3|                    2|             2|              1|               1|                 0|                        3|                   -68.75|          -75.93|                  -66.07|                 -87.5|                        3|              United States|                    Georgia|                     Schley|32.2920150756836|-84.3160445226859|      5257|        USA|         US|        840|         USD|    13249|ChIJzXKpmryy84gRd...|              NULL|     US13249|    NULL|USA.11.123_1|\n|0007cb93|2020-04-13|       12|     1|     NULL| NULL|    NULL|             NULL|                   NULL|NULL|NULL|NULL|             3|                2|            2|                      4|               -1|                     2|                             1|                                  3|                    2|             2|              1|               1|                 0|                        3|                   -68.75|          -75.93|                  -66.07|                 -87.5|                        3|              United States|                    Georgia|                     Schley|32.2920150756836|-84.3160445226859|      5257|        USA|         US|        840|         USD|    13249|ChIJzXKpmryy84gRd...|              NULL|     US13249|    NULL|USA.11.123_1|\n|0007cb93|2020-04-14|       12|     1|     NULL| NULL|    NULL|             NULL|                   NULL|NULL|NULL|NULL|             3|                2|            2|                      4|               -1|                     2|                             1|                                  3|                    2|             2|              1|               1|                 0|                        3|                   -68.75|          -75.93|                  -66.07|                 -87.5|                        3|              United States|                    Georgia|                     Schley|32.2920150756836|-84.3160445226859|      5257|        USA|         US|        840|         USD|    13249|ChIJzXKpmryy84gRd...|              NULL|     US13249|    NULL|USA.11.123_1|\n|0007cb93|2020-04-15|       13|     1|     NULL| NULL|    NULL|             NULL|                   NULL|NULL|NULL|NULL|             3|                2|            2|                      4|               -1|                     2|                             1|                                  3|                    2|             2|              1|               1|                 0|                        3|                   -68.75|          -75.93|                  -66.07|                 -87.5|                        3|              United States|                    Georgia|                     Schley|32.2920150756836|-84.3160445226859|      5257|        USA|         US|        840|         USD|    13249|ChIJzXKpmryy84gRd...|              NULL|     US13249|    NULL|USA.11.123_1|\n|0007cb93|2020-04-16|       14|     1|     NULL| NULL|    NULL|             NULL|                   NULL|NULL|NULL|NULL|             3|                2|            2|                      4|               -1|                     2|                             1|                                  3|                    2|             2|              1|               1|                 0|                        3|                   -68.75|          -75.93|                  -66.07|                 -87.5|                        3|              United States|                    Georgia|                     Schley|32.2920150756836|-84.3160445226859|      5257|        USA|         US|        840|         USD|    13249|ChIJzXKpmryy84gRd...|              NULL|     US13249|    NULL|USA.11.123_1|\n|0007cb93|2020-04-17|       15|     1|     NULL| NULL|    NULL|             NULL|                   NULL|NULL|NULL|NULL|             3|                2|            2|                      4|               -1|                     2|                             1|                                  3|                    2|             2|              1|               1|                 0|                        3|                   -68.75|          -75.93|                  -66.07|                 -87.5|                        3|              United States|                    Georgia|                     Schley|32.2920150756836|-84.3160445226859|      5257|        USA|         US|        840|         USD|    13249|ChIJzXKpmryy84gRd...|              NULL|     US13249|    NULL|USA.11.123_1|\n|0007cb93|2020-04-18|       15|     1|     NULL| NULL|    NULL|             NULL|                   NULL|NULL|NULL|NULL|             3|                2|            2|                      4|               -1|                     2|                             1|                                  3|                    2|             2|              1|               1|                 0|                        3|                   -68.75|          -75.93|                  -66.07|                 -87.5|                        3|              United States|                    Georgia|                     Schley|32.2920150756836|-84.3160445226859|      5257|        USA|         US|        840|         USD|    13249|ChIJzXKpmryy84gRd...|              NULL|     US13249|    NULL|USA.11.123_1|\n+--------+----------+---------+------+---------+-----+--------+-----------------+-----------------------+----+----+----+--------------+-----------------+-------------+-----------------------+-----------------+----------------------+------------------------------+-----------------------------------+---------------------+--------------+---------------+----------------+------------------+-------------------------+-------------------------+----------------+------------------------+----------------------+-------------------------+---------------------------+---------------------------+---------------------------+----------------+-----------------+----------+-----------+-----------+-----------+------------+---------+--------------------+------------------+------------+--------+------------+\nonly showing top 20 rows\n\nroot\n |-- id: string (nullable = true)\n |-- date: date (nullable = true)\n |-- confirmed: integer (nullable = true)\n |-- deaths: integer (nullable = true)\n |-- recovered: integer (nullable = true)\n |-- tests: integer (nullable = true)\n |-- vaccines: integer (nullable = true)\n |-- people_vaccinated: integer (nullable = true)\n |-- people_fully_vaccinated: integer (nullable = true)\n |-- hosp: integer (nullable = true)\n |-- icu: integer (nullable = true)\n |-- vent: integer (nullable = true)\n |-- school_closing: integer (nullable = true)\n |-- workplace_closing: integer (nullable = true)\n |-- cancel_events: integer (nullable = true)\n |-- gatherings_restrictions: integer (nullable = true)\n |-- transport_closing: integer (nullable = true)\n |-- stay_home_restrictions: integer (nullable = true)\n |-- internal_movement_restrictions: integer (nullable = true)\n |-- international_movement_restrictions: integer (nullable = true)\n |-- information_campaigns: integer (nullable = true)\n |-- testing_policy: integer (nullable = true)\n |-- contact_tracing: integer (nullable = true)\n |-- facial_coverings: integer (nullable = true)\n |-- vaccination_policy: integer (nullable = true)\n |-- elderly_people_protection: integer (nullable = true)\n |-- government_response_index: double (nullable = true)\n |-- stringency_index: double (nullable = true)\n |-- containment_health_index: double (nullable = true)\n |-- economic_support_index: double (nullable = true)\n |-- administrative_area_level: integer (nullable = true)\n |-- administrative_area_level_1: string (nullable = true)\n |-- administrative_area_level_2: string (nullable = true)\n |-- administrative_area_level_3: string (nullable = true)\n |-- latitude: double (nullable = true)\n |-- longitude: double (nullable = true)\n |-- population: integer (nullable = true)\n |-- iso_alpha_3: string (nullable = true)\n |-- iso_alpha_2: string (nullable = true)\n |-- iso_numeric: integer (nullable = true)\n |-- iso_currency: string (nullable = true)\n |-- key_local: string (nullable = true)\n |-- key_google_mobility: string (nullable = true)\n |-- key_apple_mobility: string (nullable = true)\n |-- key_jhu_csse: string (nullable = true)\n |-- key_nuts: string (nullable = true)\n |-- key_gadm: string (nullable = true)\n\n"
     ]
    }
   ],
   "source": [
    "cities.show()\n",
    "cities.printSchema()"
   ]
  },
  {
   "cell_type": "markdown",
   "metadata": {
    "application/vnd.databricks.v1+cell": {
     "cellMetadata": {},
     "inputWidgets": {},
     "nuid": "ce838584-d264-4e57-bc07-a43b9a3950fa",
     "showTitle": false,
     "title": ""
    }
   },
   "source": [
    "# transforming countries"
   ]
  },
  {
   "cell_type": "code",
   "execution_count": 0,
   "metadata": {
    "application/vnd.databricks.v1+cell": {
     "cellMetadata": {
      "byteLimit": 2048000,
      "rowLimit": 10000
     },
     "inputWidgets": {},
     "nuid": "846402a4-f8c4-40fb-9ccc-c619ed9f7965",
     "showTitle": false,
     "title": ""
    }
   },
   "outputs": [
    {
     "output_type": "stream",
     "name": "stdout",
     "output_type": "stream",
     "text": [
      "+--------+----------+---------+------+---------+-----+--------+-----------------+-----------------------+----+----+----+----------+---------------------------+\n|      id|      date|confirmed|deaths|recovered|tests|vaccines|people_vaccinated|people_fully_vaccinated|hosp| icu|vent|population|administrative_area_level_1|\n+--------+----------+---------+------+---------+-----+--------+-----------------+-----------------------+----+----+----+----------+---------------------------+\n|8320791a|2020-03-13|        2|  NULL|     NULL| NULL|    NULL|             NULL|                   NULL|NULL|NULL|NULL|      3533|             Grand Princess|\n|8320791a|2020-03-14|        2|  NULL|     NULL| NULL|    NULL|             NULL|                   NULL|NULL|NULL|NULL|      3533|             Grand Princess|\n|8320791a|2020-03-15|        2|  NULL|     NULL| NULL|    NULL|             NULL|                   NULL|NULL|NULL|NULL|      3533|             Grand Princess|\n|8320791a|2020-03-16|        2|  NULL|     NULL| NULL|    NULL|             NULL|                   NULL|NULL|NULL|NULL|      3533|             Grand Princess|\n|8320791a|2020-03-17|        8|  NULL|     NULL| NULL|    NULL|             NULL|                   NULL|NULL|NULL|NULL|      3533|             Grand Princess|\n|8320791a|2020-03-18|        9|  NULL|     NULL| NULL|    NULL|             NULL|                   NULL|NULL|NULL|NULL|      3533|             Grand Princess|\n|8320791a|2020-03-19|        9|  NULL|     NULL| NULL|    NULL|             NULL|                   NULL|NULL|NULL|NULL|      3533|             Grand Princess|\n|8320791a|2020-03-20|       10|  NULL|     NULL| NULL|    NULL|             NULL|                   NULL|NULL|NULL|NULL|      3533|             Grand Princess|\n|8320791a|2020-03-21|       10|  NULL|     NULL| NULL|    NULL|             NULL|                   NULL|NULL|NULL|NULL|      3533|             Grand Princess|\n|8320791a|2020-03-22|       13|  NULL|     NULL| NULL|    NULL|             NULL|                   NULL|NULL|NULL|NULL|      3533|             Grand Princess|\n|d7f0f2d6|2020-04-21|        1|     0|        0|    4|    NULL|             NULL|                   NULL|   1|NULL|NULL|       623|            Costa Atlantica|\n|d7f0f2d6|2020-04-22|       34|     0|     NULL| NULL|    NULL|             NULL|                   NULL|NULL|NULL|NULL|       623|            Costa Atlantica|\n|d7f0f2d6|2020-04-23|       48|     0|        0|   61|    NULL|             NULL|                   NULL|  34|NULL|NULL|       623|            Costa Atlantica|\n|d7f0f2d6|2020-04-24|       91|     0|        0|  127|    NULL|             NULL|                   NULL|  48|NULL|NULL|       623|            Costa Atlantica|\n|d7f0f2d6|2020-04-25|      148|     0|        0|  335|    NULL|             NULL|                   NULL|  91|NULL|NULL|       623|            Costa Atlantica|\n|d7f0f2d6|2020-04-26|      148|     0|        0|  623|    NULL|             NULL|                   NULL| 148|NULL|NULL|       623|            Costa Atlantica|\n|d7f0f2d6|2020-04-27|      148|     0|        0|  623|    NULL|             NULL|                   NULL| 148|NULL|NULL|       623|            Costa Atlantica|\n|d7f0f2d6|2020-04-28|      148|     0|        0|  623|    NULL|             NULL|                   NULL| 148|NULL|NULL|       623|            Costa Atlantica|\n|d7f0f2d6|2020-04-29|      148|     0|        0|  623|    NULL|             NULL|                   NULL| 148|NULL|NULL|       623|            Costa Atlantica|\n|d7f0f2d6|2020-04-30|      148|     0|        0|  623|    NULL|             NULL|                   NULL| 148|NULL|NULL|       623|            Costa Atlantica|\n+--------+----------+---------+------+---------+-----+--------+-----------------+-----------------------+----+----+----+----------+---------------------------+\nonly showing top 20 rows\n\n"
     ]
    }
   ],
   "source": [
    "from pyspark.sql.functions import col, to_date\n",
    "\n",
    "# Assuming your DataFrame is named 'countries'\n",
    "transformed_countries = countries.select(\n",
    "    col(\"id\"),\n",
    "    to_date(col(\"date\")).alias(\"date\"),\n",
    "    col(\"confirmed\").cast(\"integer\"),\n",
    "    col(\"deaths\").cast(\"integer\"),\n",
    "    col(\"recovered\").cast(\"integer\"),\n",
    "    col(\"tests\").cast(\"long\"),\n",
    "    col(\"vaccines\").cast(\"long\"),\n",
    "    col(\"people_vaccinated\").cast(\"integer\"),\n",
    "    col(\"people_fully_vaccinated\").cast(\"integer\"),\n",
    "    col(\"hosp\").cast(\"integer\"),\n",
    "    col(\"icu\").cast(\"integer\"),\n",
    "    col(\"vent\").cast(\"integer\"),\n",
    "    col(\"population\").cast(\"integer\"),\n",
    "    col(\"administrative_area_level_1\")\n",
    ")\n",
    "\n",
    "# Show the transformed DataFrame\n",
    "transformed_countries.show()"
   ]
  },
  {
   "cell_type": "code",
   "execution_count": 0,
   "metadata": {
    "application/vnd.databricks.v1+cell": {
     "cellMetadata": {
      "byteLimit": 2048000,
      "rowLimit": 10000
     },
     "inputWidgets": {},
     "nuid": "f7be015c-6828-4c6d-bd5d-ea0b47efa00a",
     "showTitle": false,
     "title": ""
    }
   },
   "outputs": [
    {
     "output_type": "stream",
     "name": "stdout",
     "output_type": "stream",
     "text": [
      "root\n |-- country_id: string (nullable = true)\n |-- date: date (nullable = true)\n |-- total_confirmed: integer (nullable = true)\n |-- total_deaths: integer (nullable = true)\n |-- total_recovered: integer (nullable = true)\n |-- total_tests: long (nullable = true)\n |-- total_vaccines: long (nullable = true)\n |-- total_people_vaccinated: integer (nullable = true)\n |-- total_people_fully_vaccinated: integer (nullable = true)\n |-- total_hosp: integer (nullable = true)\n |-- total_icu: integer (nullable = true)\n |-- total_vent: integer (nullable = true)\n |-- total_population: integer (nullable = true)\n |-- country: string (nullable = true)\n\n"
     ]
    }
   ],
   "source": [
    "transformed_countries = transformed_countries.withColumnRenamed(\"id\", \"country_id\") \\\n",
    "    .withColumnRenamed(\"date\", \"date\") \\\n",
    "    .withColumnRenamed(\"confirmed\", \"total_confirmed\") \\\n",
    "    .withColumnRenamed(\"deaths\", \"total_deaths\") \\\n",
    "    .withColumnRenamed(\"recovered\", \"total_recovered\") \\\n",
    "    .withColumnRenamed(\"tests\", \"total_tests\") \\\n",
    "    .withColumnRenamed(\"vaccines\", \"total_vaccines\") \\\n",
    "    .withColumnRenamed(\"people_vaccinated\", \"total_people_vaccinated\") \\\n",
    "    .withColumnRenamed(\"people_fully_vaccinated\", \"total_people_fully_vaccinated\") \\\n",
    "    .withColumnRenamed(\"hosp\", \"total_hosp\") \\\n",
    "    .withColumnRenamed(\"icu\", \"total_icu\") \\\n",
    "    .withColumnRenamed(\"vent\", \"total_vent\") \\\n",
    "    .withColumnRenamed(\"population\", \"total_population\") \\\n",
    "    .withColumnRenamed(\"administrative_area_level_1\", \"country\")\n",
    "\n",
    "transformed_countries.printSchema()"
   ]
  },
  {
   "cell_type": "markdown",
   "metadata": {
    "application/vnd.databricks.v1+cell": {
     "cellMetadata": {},
     "inputWidgets": {},
     "nuid": "19806ec5-de64-44af-9914-4368fc5efbb2",
     "showTitle": false,
     "title": ""
    }
   },
   "source": [
    "# transforming states"
   ]
  },
  {
   "cell_type": "code",
   "execution_count": 0,
   "metadata": {
    "application/vnd.databricks.v1+cell": {
     "cellMetadata": {
      "byteLimit": 2048000,
      "rowLimit": 10000
     },
     "inputWidgets": {},
     "nuid": "2ac8452b-dd76-4746-a614-49ccffbdc108",
     "showTitle": false,
     "title": ""
    }
   },
   "outputs": [
    {
     "output_type": "stream",
     "name": "stdout",
     "output_type": "stream",
     "text": [
      "+--------+----------+---------------+------------+---------------+-----------+--------------+-----------------------+-----------------------------+----------+---------+----------+----------------+--------+--------+\n|state_id|      date|total_confirmed|total_deaths|total_recovered|total_tests|total_vaccines|total_people_vaccinated|total_people_fully_vaccinated|total_hosp|total_icu|total_vent|total_population| country|   state|\n+--------+----------+---------------+------------+---------------+-----------+--------------+-----------------------+-----------------------------+----------+---------+----------+----------------+--------+--------+\n|0042529a|2020-01-12|              0|           0|           NULL|       NULL|          NULL|                   NULL|                         NULL|      NULL|     NULL|      NULL|          487976|Thailand|Yasothon|\n|0042529a|2020-01-13|              0|           0|           NULL|       NULL|          NULL|                   NULL|                         NULL|      NULL|     NULL|      NULL|          487976|Thailand|Yasothon|\n|0042529a|2020-01-14|              0|           0|           NULL|       NULL|          NULL|                   NULL|                         NULL|      NULL|     NULL|      NULL|          487976|Thailand|Yasothon|\n|0042529a|2020-01-15|              0|           0|           NULL|       NULL|          NULL|                   NULL|                         NULL|      NULL|     NULL|      NULL|          487976|Thailand|Yasothon|\n|0042529a|2020-01-16|              0|           0|           NULL|       NULL|          NULL|                   NULL|                         NULL|      NULL|     NULL|      NULL|          487976|Thailand|Yasothon|\n|0042529a|2020-01-17|              0|           0|           NULL|       NULL|          NULL|                   NULL|                         NULL|      NULL|     NULL|      NULL|          487976|Thailand|Yasothon|\n|0042529a|2020-01-18|              0|           0|           NULL|       NULL|          NULL|                   NULL|                         NULL|      NULL|     NULL|      NULL|          487976|Thailand|Yasothon|\n|0042529a|2020-01-19|              0|           0|           NULL|       NULL|          NULL|                   NULL|                         NULL|      NULL|     NULL|      NULL|          487976|Thailand|Yasothon|\n|0042529a|2020-01-20|              0|           0|           NULL|       NULL|          NULL|                   NULL|                         NULL|      NULL|     NULL|      NULL|          487976|Thailand|Yasothon|\n|0042529a|2020-01-21|              0|           0|           NULL|       NULL|          NULL|                   NULL|                         NULL|      NULL|     NULL|      NULL|          487976|Thailand|Yasothon|\n|0042529a|2020-01-22|              0|           0|           NULL|       NULL|          NULL|                   NULL|                         NULL|      NULL|     NULL|      NULL|          487976|Thailand|Yasothon|\n|0042529a|2020-01-23|              0|           0|           NULL|       NULL|          NULL|                   NULL|                         NULL|      NULL|     NULL|      NULL|          487976|Thailand|Yasothon|\n|0042529a|2020-01-24|              0|           0|           NULL|       NULL|          NULL|                   NULL|                         NULL|      NULL|     NULL|      NULL|          487976|Thailand|Yasothon|\n|0042529a|2020-01-25|              0|           0|           NULL|       NULL|          NULL|                   NULL|                         NULL|      NULL|     NULL|      NULL|          487976|Thailand|Yasothon|\n|0042529a|2020-01-26|              0|           0|           NULL|       NULL|          NULL|                   NULL|                         NULL|      NULL|     NULL|      NULL|          487976|Thailand|Yasothon|\n|0042529a|2020-01-27|              0|           0|           NULL|       NULL|          NULL|                   NULL|                         NULL|      NULL|     NULL|      NULL|          487976|Thailand|Yasothon|\n|0042529a|2020-01-28|              0|           0|           NULL|       NULL|          NULL|                   NULL|                         NULL|      NULL|     NULL|      NULL|          487976|Thailand|Yasothon|\n|0042529a|2020-01-29|              0|           0|           NULL|       NULL|          NULL|                   NULL|                         NULL|      NULL|     NULL|      NULL|          487976|Thailand|Yasothon|\n|0042529a|2020-01-30|              0|           0|           NULL|       NULL|          NULL|                   NULL|                         NULL|      NULL|     NULL|      NULL|          487976|Thailand|Yasothon|\n|0042529a|2020-01-31|              0|           0|           NULL|       NULL|          NULL|                   NULL|                         NULL|      NULL|     NULL|      NULL|          487976|Thailand|Yasothon|\n+--------+----------+---------------+------------+---------------+-----------+--------------+-----------------------+-----------------------------+----------+---------+----------+----------------+--------+--------+\nonly showing top 20 rows\n\nroot\n |-- state_id: string (nullable = true)\n |-- date: date (nullable = true)\n |-- total_confirmed: integer (nullable = true)\n |-- total_deaths: integer (nullable = true)\n |-- total_recovered: integer (nullable = true)\n |-- total_tests: long (nullable = true)\n |-- total_vaccines: long (nullable = true)\n |-- total_people_vaccinated: integer (nullable = true)\n |-- total_people_fully_vaccinated: integer (nullable = true)\n |-- total_hosp: integer (nullable = true)\n |-- total_icu: integer (nullable = true)\n |-- total_vent: integer (nullable = true)\n |-- total_population: integer (nullable = true)\n |-- country: string (nullable = true)\n |-- state: string (nullable = true)\n\n"
     ]
    }
   ],
   "source": [
    "from pyspark.sql.functions import col, to_date\n",
    "\n",
    "# Assuming your DataFrame is named 'states'\n",
    "transformed_states = states.select(\n",
    "    col(\"id\").alias(\"state_id\"),\n",
    "    to_date(col(\"date\")).alias(\"date\"),\n",
    "    col(\"confirmed\").cast(\"integer\").alias(\"total_confirmed\"),\n",
    "    col(\"deaths\").cast(\"integer\").alias(\"total_deaths\"),\n",
    "    col(\"recovered\").cast(\"integer\").alias(\"total_recovered\"),\n",
    "    col(\"tests\").cast(\"long\").alias(\"total_tests\"),\n",
    "    col(\"vaccines\").cast(\"long\").alias(\"total_vaccines\"),\n",
    "    col(\"people_vaccinated\").cast(\"integer\").alias(\"total_people_vaccinated\"),\n",
    "    col(\"people_fully_vaccinated\").cast(\"integer\").alias(\"total_people_fully_vaccinated\"),\n",
    "    col(\"hosp\").cast(\"integer\").alias(\"total_hosp\"),\n",
    "    col(\"icu\").cast(\"integer\").alias(\"total_icu\"),\n",
    "    col(\"vent\").cast(\"integer\").alias(\"total_vent\"),\n",
    "    col(\"population\").cast(\"integer\").alias(\"total_population\"),\n",
    "    col(\"administrative_area_level_1\").alias(\"country\"), \n",
    "    col(\"administrative_area_level_2\").alias(\"state\")\n",
    ")\n",
    "\n",
    "# Show the transformed DataFrame\n",
    "transformed_states.show()\n",
    "\n",
    "# show schema\n",
    "transformed_states.printSchema()"
   ]
  },
  {
   "cell_type": "markdown",
   "metadata": {
    "application/vnd.databricks.v1+cell": {
     "cellMetadata": {},
     "inputWidgets": {},
     "nuid": "fcd72e9b-795a-4c46-8bc0-86bb2f965c27",
     "showTitle": false,
     "title": ""
    }
   },
   "source": [
    "# transorm city data"
   ]
  },
  {
   "cell_type": "code",
   "execution_count": 0,
   "metadata": {
    "application/vnd.databricks.v1+cell": {
     "cellMetadata": {
      "byteLimit": 2048000,
      "rowLimit": 10000
     },
     "inputWidgets": {},
     "nuid": "64160f99-06f6-4baa-9ad0-d2fd4f8801f9",
     "showTitle": false,
     "title": ""
    }
   },
   "outputs": [
    {
     "output_type": "stream",
     "name": "stdout",
     "output_type": "stream",
     "text": [
      "+--------+----------+---------------+------------+---------------+-----------+--------------+-----------------------+-----------------------------+----------+---------+----------+--------------+-----------------+-------------+-----------------------+-----------------+----------------------+------------------------------+-----------------------------------+---------------------+--------------+---------------+----------------+------------------+-------------+-------+------+\n| city_id|      date|total_confirmed|total_deaths|total_recovered|total_tests|total_vaccines|total_people_vaccinated|total_people_fully_vaccinated|total_hosp|total_icu|total_vent|school_closing|workplace_closing|cancel_events|gatherings_restrictions|transport_closing|stay_home_restrictions|internal_movement_restrictions|international_movement_restrictions|information_campaigns|testing_policy|contact_tracing|facial_coverings|vaccination_policy|      country|  state|  city|\n+--------+----------+---------------+------------+---------------+-----------+--------------+-----------------------+-----------------------------+----------+---------+----------+--------------+-----------------+-------------+-----------------------+-----------------+----------------------+------------------------------+-----------------------------------+---------------------+--------------+---------------+----------------+------------------+-------------+-------+------+\n|0007cb93|2020-03-30|              1|           0|           NULL|       NULL|          NULL|                   NULL|                         NULL|      NULL|     NULL|      NULL|             3|                2|            1|                      4|               -1|                    -2|                             1|                                  3|                    2|             1|              1|               0|                 0|United States|Georgia|Schley|\n|0007cb93|2020-03-31|              4|           0|           NULL|       NULL|          NULL|                   NULL|                         NULL|      NULL|     NULL|      NULL|             3|                2|            1|                      4|               -1|                    -2|                             1|                                  3|                    2|             1|              1|               0|                 0|United States|Georgia|Schley|\n|0007cb93|2020-04-01|              4|           0|           NULL|       NULL|          NULL|                   NULL|                         NULL|      NULL|     NULL|      NULL|             3|                2|            1|                      4|               -1|                    -2|                             1|                                  3|                    2|             1|              1|               0|                 0|United States|Georgia|Schley|\n|0007cb93|2020-04-02|              4|           0|           NULL|       NULL|          NULL|                   NULL|                         NULL|      NULL|     NULL|      NULL|             3|                2|            1|                      4|               -1|                    -2|                             1|                                  3|                    2|             1|              1|               0|                 0|United States|Georgia|Schley|\n|0007cb93|2020-04-03|              5|           0|           NULL|       NULL|          NULL|                   NULL|                         NULL|      NULL|     NULL|      NULL|             3|                2|            2|                      4|               -1|                     2|                             1|                                  3|                    2|             1|              1|               0|                 0|United States|Georgia|Schley|\n|0007cb93|2020-04-04|              6|           0|           NULL|       NULL|          NULL|                   NULL|                         NULL|      NULL|     NULL|      NULL|             3|                2|            2|                      4|               -1|                     2|                             1|                                  3|                    2|             1|              1|               1|                 0|United States|Georgia|Schley|\n|0007cb93|2020-04-05|              6|           0|           NULL|       NULL|          NULL|                   NULL|                         NULL|      NULL|     NULL|      NULL|             3|                2|            2|                      4|               -1|                     2|                             1|                                  3|                    2|             1|              1|               1|                 0|United States|Georgia|Schley|\n|0007cb93|2020-04-06|              7|           1|           NULL|       NULL|          NULL|                   NULL|                         NULL|      NULL|     NULL|      NULL|             3|                2|            2|                      4|               -1|                     2|                             1|                                  3|                    2|             1|              1|               1|                 0|United States|Georgia|Schley|\n|0007cb93|2020-04-07|             10|           1|           NULL|       NULL|          NULL|                   NULL|                         NULL|      NULL|     NULL|      NULL|             3|                2|            2|                      4|               -1|                     2|                             1|                                  3|                    2|             2|              1|               1|                 0|United States|Georgia|Schley|\n|0007cb93|2020-04-08|             10|           1|           NULL|       NULL|          NULL|                   NULL|                         NULL|      NULL|     NULL|      NULL|             3|                2|            2|                      4|               -1|                     2|                             1|                                  3|                    2|             2|              1|               1|                 0|United States|Georgia|Schley|\n|0007cb93|2020-04-09|             11|           1|           NULL|       NULL|          NULL|                   NULL|                         NULL|      NULL|     NULL|      NULL|             3|                2|            2|                      4|               -1|                     2|                             1|                                  3|                    2|             2|              1|               1|                 0|United States|Georgia|Schley|\n|0007cb93|2020-04-10|             12|           1|           NULL|       NULL|          NULL|                   NULL|                         NULL|      NULL|     NULL|      NULL|             3|                2|            2|                      4|               -1|                     2|                             1|                                  3|                    2|             2|              1|               1|                 0|United States|Georgia|Schley|\n|0007cb93|2020-04-11|             12|           1|           NULL|       NULL|          NULL|                   NULL|                         NULL|      NULL|     NULL|      NULL|             3|                2|            2|                      4|               -1|                     2|                             1|                                  3|                    2|             2|              1|               1|                 0|United States|Georgia|Schley|\n|0007cb93|2020-04-12|             12|           1|           NULL|       NULL|          NULL|                   NULL|                         NULL|      NULL|     NULL|      NULL|             3|                2|            2|                      4|               -1|                     2|                             1|                                  3|                    2|             2|              1|               1|                 0|United States|Georgia|Schley|\n|0007cb93|2020-04-13|             12|           1|           NULL|       NULL|          NULL|                   NULL|                         NULL|      NULL|     NULL|      NULL|             3|                2|            2|                      4|               -1|                     2|                             1|                                  3|                    2|             2|              1|               1|                 0|United States|Georgia|Schley|\n|0007cb93|2020-04-14|             12|           1|           NULL|       NULL|          NULL|                   NULL|                         NULL|      NULL|     NULL|      NULL|             3|                2|            2|                      4|               -1|                     2|                             1|                                  3|                    2|             2|              1|               1|                 0|United States|Georgia|Schley|\n|0007cb93|2020-04-15|             13|           1|           NULL|       NULL|          NULL|                   NULL|                         NULL|      NULL|     NULL|      NULL|             3|                2|            2|                      4|               -1|                     2|                             1|                                  3|                    2|             2|              1|               1|                 0|United States|Georgia|Schley|\n|0007cb93|2020-04-16|             14|           1|           NULL|       NULL|          NULL|                   NULL|                         NULL|      NULL|     NULL|      NULL|             3|                2|            2|                      4|               -1|                     2|                             1|                                  3|                    2|             2|              1|               1|                 0|United States|Georgia|Schley|\n|0007cb93|2020-04-17|             15|           1|           NULL|       NULL|          NULL|                   NULL|                         NULL|      NULL|     NULL|      NULL|             3|                2|            2|                      4|               -1|                     2|                             1|                                  3|                    2|             2|              1|               1|                 0|United States|Georgia|Schley|\n|0007cb93|2020-04-18|             15|           1|           NULL|       NULL|          NULL|                   NULL|                         NULL|      NULL|     NULL|      NULL|             3|                2|            2|                      4|               -1|                     2|                             1|                                  3|                    2|             2|              1|               1|                 0|United States|Georgia|Schley|\n+--------+----------+---------------+------------+---------------+-----------+--------------+-----------------------+-----------------------------+----------+---------+----------+--------------+-----------------+-------------+-----------------------+-----------------+----------------------+------------------------------+-----------------------------------+---------------------+--------------+---------------+----------------+------------------+-------------+-------+------+\nonly showing top 20 rows\n\nroot\n |-- city_id: string (nullable = true)\n |-- date: date (nullable = true)\n |-- total_confirmed: integer (nullable = true)\n |-- total_deaths: integer (nullable = true)\n |-- total_recovered: integer (nullable = true)\n |-- total_tests: long (nullable = true)\n |-- total_vaccines: long (nullable = true)\n |-- total_people_vaccinated: integer (nullable = true)\n |-- total_people_fully_vaccinated: integer (nullable = true)\n |-- total_hosp: integer (nullable = true)\n |-- total_icu: integer (nullable = true)\n |-- total_vent: integer (nullable = true)\n |-- school_closing: integer (nullable = true)\n |-- workplace_closing: integer (nullable = true)\n |-- cancel_events: integer (nullable = true)\n |-- gatherings_restrictions: integer (nullable = true)\n |-- transport_closing: integer (nullable = true)\n |-- stay_home_restrictions: integer (nullable = true)\n |-- internal_movement_restrictions: integer (nullable = true)\n |-- international_movement_restrictions: integer (nullable = true)\n |-- information_campaigns: integer (nullable = true)\n |-- testing_policy: integer (nullable = true)\n |-- contact_tracing: integer (nullable = true)\n |-- facial_coverings: integer (nullable = true)\n |-- vaccination_policy: integer (nullable = true)\n |-- country: string (nullable = true)\n |-- state: string (nullable = true)\n |-- city: string (nullable = true)\n\n"
     ]
    }
   ],
   "source": [
    "from pyspark.sql.functions import col, to_date\n",
    "\n",
    "# Assuming your DataFrame is named 'cities'\n",
    "transformed_cities = cities.select(\n",
    "    col(\"id\").alias(\"city_id\"),\n",
    "    to_date(col(\"date\")).alias(\"date\"),\n",
    "    col(\"confirmed\").cast(\"integer\").alias(\"total_confirmed\"),\n",
    "    col(\"deaths\").cast(\"integer\").alias(\"total_deaths\"),\n",
    "    col(\"recovered\").cast(\"integer\").alias(\"total_recovered\"),\n",
    "    col(\"tests\").cast(\"long\").alias(\"total_tests\"),\n",
    "    col(\"vaccines\").cast(\"long\").alias(\"total_vaccines\"),\n",
    "    col(\"people_vaccinated\").cast(\"integer\").alias(\"total_people_vaccinated\"),\n",
    "    col(\"people_fully_vaccinated\").cast(\"integer\").alias(\"total_people_fully_vaccinated\"),\n",
    "    col(\"hosp\").cast(\"integer\").alias(\"total_hosp\"),\n",
    "    col(\"icu\").cast(\"integer\").alias(\"total_icu\"),\n",
    "    col(\"vent\").cast(\"integer\").alias(\"total_vent\"),\n",
    "    col(\"school_closing\").cast(\"integer\").alias(\"school_closing\"),\n",
    "    col(\"workplace_closing\").cast(\"integer\").alias(\"workplace_closing\"),\n",
    "    col(\"cancel_events\").cast(\"integer\").alias(\"cancel_events\"),\n",
    "    col(\"gatherings_restrictions\").cast(\"integer\").alias(\"gatherings_restrictions\"),\n",
    "    col(\"transport_closing\").cast(\"integer\").alias(\"transport_closing\"),\n",
    "    col(\"stay_home_restrictions\").cast(\"integer\").alias(\"stay_home_restrictions\"),\n",
    "    col(\"internal_movement_restrictions\").cast(\"integer\").alias(\"internal_movement_restrictions\"),\n",
    "    col(\"international_movement_restrictions\").cast(\"integer\").alias(\"international_movement_restrictions\"),\n",
    "    col(\"information_campaigns\").cast(\"integer\").alias(\"information_campaigns\"),\n",
    "    col(\"testing_policy\").cast(\"integer\").alias(\"testing_policy\"),\n",
    "    col(\"contact_tracing\").cast(\"integer\").alias(\"contact_tracing\"),\n",
    "    col(\"facial_coverings\").cast(\"integer\").alias(\"facial_coverings\"),\n",
    "    col(\"vaccination_policy\").cast(\"integer\").alias(\"vaccination_policy\"),\n",
    "    col(\"administrative_area_level_1\").alias(\"country\"),\n",
    "    col(\"administrative_area_level_2\").alias(\"state\"),\n",
    "    col(\"administrative_area_level_3\").alias(\"city\")\n",
    ")\n",
    "\n",
    "# Show the transformed DataFrame\n",
    "transformed_cities.show()\n",
    "\n",
    "# Show the schema\n",
    "transformed_cities.printSchema()"
   ]
  },
  {
   "cell_type": "code",
   "execution_count": 0,
   "metadata": {
    "application/vnd.databricks.v1+cell": {
     "cellMetadata": {
      "byteLimit": 2048000,
      "rowLimit": 10000
     },
     "inputWidgets": {},
     "nuid": "23aed571-ecd5-40d6-b4d4-c58464f12c78",
     "showTitle": false,
     "title": ""
    }
   },
   "outputs": [
    {
     "output_type": "execute_result",
     "data": {
      "text/plain": [
       "13277719"
      ]
     },
     "execution_count": 48,
     "metadata": {},
     "output_type": "execute_result"
    }
   ],
   "source": [
    "total_rows_cities = transformed_cities.count()\n",
    "total_rows_cities"
   ]
  },
  {
   "cell_type": "code",
   "execution_count": 0,
   "metadata": {
    "application/vnd.databricks.v1+cell": {
     "cellMetadata": {
      "byteLimit": 2048000,
      "rowLimit": 10000
     },
     "inputWidgets": {},
     "nuid": "b70cf5ae-d877-41d5-ba16-a13a26537942",
     "showTitle": false,
     "title": ""
    }
   },
   "outputs": [],
   "source": [
    "path = \"/mnt/covid-19-data/transformed-data\"\n",
    "transformed_countries.repartition(1).write.mode(\"overwrite\").option(\"header\", \"true\").csv(f\"{path}/countries\")\n",
    "transformed_states.repartition(1).write.mode(\"overwrite\").option(\"header\", \"true\").csv(f\"{path}/states\")\n",
    "transformed_cities.repartition(1).write.mode(\"overwrite\").option(\"header\", \"true\").csv(f\"{path}/cities\")"
   ]
  },
  {
   "cell_type": "code",
   "execution_count": 0,
   "metadata": {
    "application/vnd.databricks.v1+cell": {
     "cellMetadata": {},
     "inputWidgets": {},
     "nuid": "98f40764-ba9d-4bc0-b6eb-a5161e27329d",
     "showTitle": false,
     "title": ""
    }
   },
   "outputs": [],
   "source": []
  }
 ],
 "metadata": {
  "application/vnd.databricks.v1+notebook": {
   "dashboards": [],
   "environmentMetadata": null,
   "language": "python",
   "notebookMetadata": {
    "pythonIndentUnit": 4
   },
   "notebookName": "covid-19 Transformation",
   "widgets": {}
  }
 },
 "nbformat": 4,
 "nbformat_minor": 0
}
